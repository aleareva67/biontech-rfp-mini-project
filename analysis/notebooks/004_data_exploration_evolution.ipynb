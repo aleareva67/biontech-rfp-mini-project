{
 "cells": [
  {
   "cell_type": "markdown",
   "id": "127c413b-9a74-4879-b106-3b2dc0ab8ab1",
   "metadata": {},
   "source": [
    "# Data Quality - Variant Evolution Data Set\n",
    "\n",
    "**Author:** Alan Meeson <alan.meeson@capgemini.com>\n",
    "\n",
    "**Date:** 2023-02-06\n",
    "\n",
    "**Last Updated:** 2023-02-13\n",
    "\n",
    "This notebook explores the data quality fo the variant evolution data set.\n",
    "captures assumptions about the data, and validation of those assumptions.\n",
    "This can serve as a template for the Cleaning and Validation stage of the ETL process for the evolution data.\n",
    "\n",
    "Key findings are:\n",
    "- The rows for South Africa are corrupted.  The `location` entry is missing the closing ' \" '\n",
    "- There are some `perc_sequences` entries which are below 0 by -0.01.  Typically for variants 'other' and 'non_who'\n",
    "- There are some `perc_sequences` entries which are off by 0.01 in addition to the ones noted above.\n",
    "- There is some duplication in counts between the variants 'other' and 'non_who'; if we include both in the sum, the totals for a location/day don't add up correctly.\n"
   ]
  },
  {
   "cell_type": "code",
   "execution_count": null,
   "id": "74b848d4-ac6b-4662-91dc-efc1b7c140e3",
   "metadata": {
    "tags": []
   },
   "outputs": [],
   "source": [
    "import os \n",
    "import sys\n",
    "import pandas as pd\n",
    "import numpy as np\n",
    "import geopandas as gpd\n",
    "import matplotlib.pyplot as plt"
   ]
  },
  {
   "cell_type": "code",
   "execution_count": null,
   "id": "d1fbe596-1be0-41a6-864e-664a4e58dbef",
   "metadata": {
    "tags": []
   },
   "outputs": [],
   "source": [
    "pd.set_option('display.max_columns', None)\n",
    "pd.set_option('display.max_rows', None)"
   ]
  },
  {
   "cell_type": "code",
   "execution_count": null,
   "id": "9bd7e1bc-a293-40c4-9189-bd75e70a18aa",
   "metadata": {
    "tags": []
   },
   "outputs": [],
   "source": [
    "data_dir = '../data/cleaned'\n",
    "evolution_filename = os.path.join(data_dir, 'covid_variants_evolution.parquet')"
   ]
  },
  {
   "cell_type": "markdown",
   "id": "b682996c-3c2b-4240-8724-b7edda8a8681",
   "metadata": {},
   "source": [
    "## Load and prepare data"
   ]
  },
  {
   "cell_type": "code",
   "execution_count": null,
   "id": "90a66a20-2c97-4f0c-a462-c270e6953f35",
   "metadata": {
    "tags": []
   },
   "outputs": [],
   "source": [
    "evolution_df = pd.read_parquet(evolution_filename)\n",
    "evolution_df.head()"
   ]
  },
  {
   "cell_type": "markdown",
   "id": "e8421cf8-6f21-4c3f-acc3-f695abfdc244",
   "metadata": {},
   "source": [
    "## Explore data"
   ]
  },
  {
   "cell_type": "markdown",
   "id": "63de1663-e71b-43ea-b23a-4ec080689f43",
   "metadata": {},
   "source": [
    "### Date\n",
    "\n",
    "#### How frequently do we get samples?\n",
    "\n",
    "This plot groups the data by location and variant to allow us to see how long there is between samples being recorded.\n",
    "\n",
    "Findings: This is not consistent; it varies.  Typically either weekly, fortnightly or monthly."
   ]
  },
  {
   "cell_type": "code",
   "execution_count": null,
   "id": "a94a6c67-faad-4965-94ba-2a587920f3a4",
   "metadata": {
    "tags": []
   },
   "outputs": [],
   "source": [
    "date_df = evolution_df[['location','variant','date']]\n",
    "date_df = date_df.set_index(['location','variant'])\n",
    "date_df = date_df.groupby(['location','variant']).apply(lambda group: group.date.sort_values().diff().unique())"
   ]
  },
  {
   "cell_type": "code",
   "execution_count": null,
   "id": "b5bd2ba6-5af6-4d72-a842-db2657163a76",
   "metadata": {
    "tags": []
   },
   "outputs": [],
   "source": [
    "delays = [x.astype(int) for diffs in date_df for x in diffs.astype('timedelta64[D]') if ~np.isnat(x)]\n",
    "\n",
    "keys = list(set(delays))\n",
    "keys.sort()\n",
    "\n",
    "plt.figure(figsize=(6,2))\n",
    "plt.hist(delays, bins=keys)\n",
    "plt.xticks(range(0, max(keys), 7), rotation=90)\n",
    "#plt.suptitle('Distribution of time between Variant Sequence Samples', fontsize=18)\n",
    "plt.title('Distribution of time between Variant Sequence Samples')\n",
    "#plt.title('Predominately weekly, fortnightly or monthly with some variations or longer delays', fontsize=10)\n",
    "plt.ylabel('Count')\n",
    "plt.xlabel('Time between samples')\n",
    "plt.show()"
   ]
  },
  {
   "cell_type": "markdown",
   "id": "dcec1405-e273-4274-98e7-869bfa57eab3",
   "metadata": {
    "tags": []
   },
   "source": [
    "### Global prevalence of variants over time"
   ]
  },
  {
   "cell_type": "code",
   "execution_count": null,
   "id": "009ded41-0927-4f4e-8197-b0dd8a285d72",
   "metadata": {
    "tags": []
   },
   "outputs": [],
   "source": [
    "evolution_df[['date', 'num_sequences']].groupby('date').sum().plot()\n",
    "plt.title('Prevalence of any variant over time globally')"
   ]
  },
  {
   "cell_type": "code",
   "execution_count": null,
   "id": "aedad7af-895f-4a6c-bcd1-de43fb3f7557",
   "metadata": {
    "tags": []
   },
   "outputs": [],
   "source": [
    "plot_df = evolution_df[['variant', 'date', 'num_sequences']].groupby(['variant', 'date']).sum()\n",
    "variants = evolution_df.variant.unique()\n",
    "\n",
    "fig = plt.figure()\n",
    "for variant in variants:\n",
    "    plt.plot(plot_df.loc[variant])\n",
    "\n",
    "plt.xticks(rotation=90)\n",
    "fig.legend(variants, loc=7, bbox_to_anchor=(1.2, 0.5))\n",
    "plt.title('Covid-19 variant prevalence over time, globally')\n",
    "plt.ylabel('Num Sequences')\n",
    "plt.xlabel('Date')\n",
    "plt.show()"
   ]
  },
  {
   "cell_type": "code",
   "execution_count": null,
   "id": "e739a4ec-4424-4a4c-8eea-fa3a204a5757",
   "metadata": {
    "tags": []
   },
   "outputs": [],
   "source": [
    "plot_df = evolution_df[['location', 'variant', 'date', 'num_sequences']].groupby(['location', 'variant', 'date']).sum()\n",
    "locations = evolution_df.location.unique()\n",
    "\n",
    "for location in locations[:3]:\n",
    "    \n",
    "    fig = plt.figure()\n",
    "    \n",
    "    variants = plot_df.loc[location].loc[plot_df.loc[location, 'num_sequences'] > 0].index.unique(level='variant')\n",
    "    for variant in variants:\n",
    "        plt.plot(plot_df.loc[location, variant])\n",
    "\n",
    "    plt.xticks(rotation=90)\n",
    "    fig.legend(variants, loc=7, bbox_to_anchor=(1.2, 0.5))\n",
    "    plt.title('Covid-19 variant prevalence over time, %s' % location)\n",
    "    plt.ylabel('Num Sequences')\n",
    "    plt.xlabel('Date')\n",
    "    plt.show()\n"
   ]
  }
 ],
 "metadata": {
  "kernelspec": {
   "display_name": "Python 3 (ipykernel)",
   "language": "python",
   "name": "python3"
  },
  "language_info": {
   "codemirror_mode": {
    "name": "ipython",
    "version": 3
   },
   "file_extension": ".py",
   "mimetype": "text/x-python",
   "name": "python",
   "nbconvert_exporter": "python",
   "pygments_lexer": "ipython3",
   "version": "3.10.9"
  }
 },
 "nbformat": 4,
 "nbformat_minor": 5
}
