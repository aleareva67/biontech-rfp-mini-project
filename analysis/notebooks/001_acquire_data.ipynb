{
 "cells": [
  {
   "cell_type": "markdown",
   "id": "0083954c-1f4f-4ec3-a3c0-9695b862444e",
   "metadata": {},
   "source": [
    "# Initial Data Acquisition\n",
    "\n",
    "**Author:** Alan Meeson <alan.meeson@capgemini.com>\n",
    "\n",
    "**Date:** 2023-02-06\n",
    "\n",
    "This notebook retrieves the data from the BioNTech S3 bucket and stores it to the local disk for processing and analysis.\n",
    "\n",
    "Note: the environment variables should be specified in a .env file in the format: ```AWS_BUCKET_NAME=<insert value here>```, with one variable per line."
   ]
  },
  {
   "cell_type": "code",
   "execution_count": null,
   "id": "2c0f84fa-daa0-4045-9974-e5e22effc676",
   "metadata": {
    "tags": []
   },
   "outputs": [],
   "source": [
    "import dotenv\n",
    "import boto3\n",
    "import os"
   ]
  },
  {
   "cell_type": "code",
   "execution_count": null,
   "id": "f36d2ab9-8598-4cb2-81a9-fd38ebab0cc7",
   "metadata": {
    "tags": []
   },
   "outputs": [],
   "source": [
    "# Specify the location to place the raw data\n",
    "data_dir = '../data/raw'"
   ]
  },
  {
   "cell_type": "code",
   "execution_count": null,
   "id": "b7f17353-8ed2-46d4-b127-f7417fc179de",
   "metadata": {
    "tags": []
   },
   "outputs": [],
   "source": [
    "dotenv.load_dotenv('../.env')\n",
    "\n",
    "input_bucket_name = os.getenv('AWS_BUCKET_NAME')\n",
    "access_key = os.getenv('AWS_ACCESS_KEY')\n",
    "access_secret = os.getenv('AWS_ACCESS_SECRET')\n",
    "s3_host = os.getenv('AWS_HOST')"
   ]
  },
  {
   "cell_type": "markdown",
   "id": "25bfebb8-3e64-4b7b-bfae-28d76b3522e7",
   "metadata": {},
   "source": [
    "## List the available data and sizes"
   ]
  },
  {
   "cell_type": "code",
   "execution_count": null,
   "id": "a8f56512-2e80-4f3f-8af6-d5557a550ef0",
   "metadata": {
    "tags": []
   },
   "outputs": [],
   "source": [
    "session = boto3.Session(\n",
    "    aws_access_key_id=access_key,\n",
    "    aws_secret_access_key=access_secret\n",
    ")\n",
    "s3 = session.resource('s3')"
   ]
  },
  {
   "cell_type": "code",
   "execution_count": null,
   "id": "27c3006e-16bc-41ea-86cf-fd3fecf14a19",
   "metadata": {
    "tags": []
   },
   "outputs": [],
   "source": [
    "input_bucket = s3.Bucket(input_bucket_name)\n",
    "for object in input_bucket.objects.all():\n",
    "    print(\"%s - %d Mb\" % (object.key, object.size / pow(1024,2)))"
   ]
  },
  {
   "cell_type": "markdown",
   "id": "8a7ba9b8-610c-4af9-91d6-60b9eab0f97a",
   "metadata": {},
   "source": [
    "## Download"
   ]
  },
  {
   "cell_type": "code",
   "execution_count": null,
   "id": "979be742-b58f-4df8-b767-f2af85cbbf5a",
   "metadata": {
    "tags": []
   },
   "outputs": [],
   "source": [
    "# Create the output folder if it does not yet exist\n",
    "if not os.path.exists(data_dir):\n",
    "    os.makedirs(data_dir)"
   ]
  },
  {
   "cell_type": "code",
   "execution_count": null,
   "id": "1a02499d-f977-4fdb-9be6-1de4c2fa888d",
   "metadata": {
    "tags": []
   },
   "outputs": [],
   "source": [
    "input_bucket.download_file('data/Data1_Covid Variants evolution.csv', '../data/raw/Data1_Covid Variants evolution.csv')"
   ]
  },
  {
   "cell_type": "code",
   "execution_count": null,
   "id": "781d9e63-c2aa-4368-bd99-de20f54dcedc",
   "metadata": {
    "tags": []
   },
   "outputs": [],
   "source": [
    "input_bucket.download_file('data/Data2_Large set of country indicators.xlsx', '../data/raw/Data2_Large set of country indicators.xlsx')"
   ]
  }
 ],
 "metadata": {
  "kernelspec": {
   "display_name": "Python 3 (ipykernel)",
   "language": "python",
   "name": "python3"
  },
  "language_info": {
   "codemirror_mode": {
    "name": "ipython",
    "version": 3
   },
   "file_extension": ".py",
   "mimetype": "text/x-python",
   "name": "python",
   "nbconvert_exporter": "python",
   "pygments_lexer": "ipython3",
   "version": "3.10.9"
  }
 },
 "nbformat": 4,
 "nbformat_minor": 5
}
