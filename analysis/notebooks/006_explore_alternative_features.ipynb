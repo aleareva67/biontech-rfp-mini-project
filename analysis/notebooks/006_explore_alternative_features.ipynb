{
 "cells": [
  {
   "cell_type": "markdown",
   "id": "0d9103f0-59e0-42c5-9306-7d6277bc4ea9",
   "metadata": {},
   "source": [
    "# Reviewing alternative features for options to improve approach"
   ]
  },
  {
   "cell_type": "code",
   "execution_count": null,
   "id": "b23e74e1-0d5b-4643-9eca-5e873301522a",
   "metadata": {
    "tags": []
   },
   "outputs": [],
   "source": [
    "import os\n",
    "import re\n",
    "import datetime\n",
    "import numpy as np\n",
    "import pandas as pd\n",
    "import pandera as pa\n",
    "import matplotlib.pyplot as plt\n",
    "import sys\n",
    "from scipy.stats import pearsonr\n",
    "from itertools import combinations\n",
    "\n",
    "import early_hit_ranking as ehr"
   ]
  },
  {
   "cell_type": "code",
   "execution_count": null,
   "id": "3253bb21-18c9-4f1c-a92c-1e690b6a4a48",
   "metadata": {
    "tags": []
   },
   "outputs": [],
   "source": [
    "pd.set_option('display.max_columns', None)\n",
    "pd.set_option('display.max_rows', None)"
   ]
  },
  {
   "cell_type": "code",
   "execution_count": null,
   "id": "c3642236-67b2-4988-a81d-4489545969d6",
   "metadata": {
    "tags": []
   },
   "outputs": [],
   "source": [
    "data_dir = '../data'\n",
    "evolution_filename = os.path.join(data_dir, 'cleaned', 'covid_variants_evolution.parquet')\n",
    "country_filename = os.path.join(data_dir, 'cleaned', 'country_indicators.parquet')"
   ]
  },
  {
   "cell_type": "code",
   "execution_count": null,
   "id": "2ab6a04b-d02e-4bdc-80f2-701da6fc08c1",
   "metadata": {
    "tags": []
   },
   "outputs": [],
   "source": [
    "evolution_df = pd.read_parquet(evolution_filename)\n",
    "evolution_locations = evolution_df.location.unique()\n",
    "len(evolution_locations)"
   ]
  },
  {
   "cell_type": "code",
   "execution_count": null,
   "id": "889bc4c3-3791-4271-8272-9ba3d34f0e5a",
   "metadata": {
    "tags": []
   },
   "outputs": [],
   "source": [
    "countries_df = pd.read_parquet(country_filename)"
   ]
  },
  {
   "cell_type": "code",
   "execution_count": null,
   "id": "2b83f2f6-3ca3-4d2d-8c51-9e65405f66db",
   "metadata": {
    "tags": []
   },
   "outputs": [],
   "source": [
    "location_df = pd.read_parquet('../data/processed/location_level_indications.parquet')"
   ]
  },
  {
   "cell_type": "markdown",
   "id": "5d6e2f10-3b0e-4aec-82f6-9014822a4798",
   "metadata": {},
   "source": [
    "### For convenience, identify the columns in country which do not change over time and extract them."
   ]
  },
  {
   "cell_type": "code",
   "execution_count": null,
   "id": "a639f881-5883-4359-9d3c-0d813610c050",
   "metadata": {
    "tags": []
   },
   "outputs": [],
   "source": [
    "# The following columns hae only one value per location, which never changes\n",
    "location_level_columns = (countries_df.groupby('location').nunique() <= 1).all()\n",
    "location_level_column_names = list(location_level_columns[location_level_columns].index)\n",
    "location_level_column_names"
   ]
  },
  {
   "cell_type": "code",
   "execution_count": null,
   "id": "ad1372e7-9208-4845-acbf-2083d37e32e6",
   "metadata": {
    "tags": []
   },
   "outputs": [],
   "source": [
    "# We don't both with test_units as that's tied to the test data, and we add location back in.\n",
    "columns_we_want_to_keep = [\n",
    "    'continent', 'location',\n",
    "    'population_density',\n",
    "    'median_age', 'aged_65_older', 'aged_70_older',\n",
    "    'gdp_per_capita', 'extreme_poverty',\n",
    "    'cardiovasc_death_rate', 'diabetes_prevalence', 'female_smokers', 'male_smokers', \n",
    "    'handwashing_facilities', 'hospital_beds_per_thousand', 'life_expectancy',\n",
    "    'human_development_index', 'population'\n",
    "]\n",
    "location_df  = countries_df[columns_we_want_to_keep].groupby('location').first().reset_index()"
   ]
  },
  {
   "cell_type": "markdown",
   "id": "1397a788-8e2c-4f71-aa3e-ec2779f35603",
   "metadata": {},
   "source": [
    "## Join the data"
   ]
  },
  {
   "cell_type": "code",
   "execution_count": null,
   "id": "85fa4ec5-fda4-40fc-9dff-c1ed158fdf46",
   "metadata": {
    "tags": []
   },
   "outputs": [],
   "source": [
    "evolution_df.head()"
   ]
  },
  {
   "cell_type": "code",
   "execution_count": null,
   "id": "c61c46fa-8fa1-4a5d-a718-630822676dff",
   "metadata": {
    "tags": []
   },
   "outputs": [],
   "source": [
    "location_df.head()"
   ]
  },
  {
   "cell_type": "code",
   "execution_count": null,
   "id": "3c5db762-fa58-45b8-938f-337e0c11ef0d",
   "metadata": {
    "tags": []
   },
   "outputs": [],
   "source": [
    "country_continent_mapping = location_df[['continent', 'location']]\n",
    "combined_df = evolution_df.merge(country_continent_mapping, on='location', how='left')"
   ]
  },
  {
   "cell_type": "markdown",
   "id": "8095801c-afed-4178-a083-f767e4cf378a",
   "metadata": {},
   "source": [
    "## Lets plot some stuff"
   ]
  },
  {
   "cell_type": "code",
   "execution_count": null,
   "id": "c384e5e7-203b-48fd-a708-6397bb5f0300",
   "metadata": {
    "tags": []
   },
   "outputs": [],
   "source": [
    "countries_deaths_df = countries_df.loc[countries_df['location'] == 'World', ['date', 'new_deaths_per_million', 'new_deaths_smoothed_per_million', 'total_deaths_per_million']]"
   ]
  },
  {
   "cell_type": "code",
   "execution_count": null,
   "id": "8c77167d-9c35-4cbf-94c3-ee976b0c18c2",
   "metadata": {
    "tags": []
   },
   "outputs": [],
   "source": [
    "global_variant_df = evolution_df.groupby(['date', 'variant']).sum().reset_index('date')\n",
    "global_alpha_df = global_variant_df.loc['Alpha']\n",
    "global_alpha_df['num_sequences_cumulative'] = global_alpha_df['num_sequences'].cumsum()\n",
    "global_alpha_df.head()"
   ]
  },
  {
   "cell_type": "code",
   "execution_count": null,
   "id": "5f2dce67-6da7-48f3-aace-896476c7930a",
   "metadata": {
    "tags": []
   },
   "outputs": [],
   "source": [
    "global_variant_df = evolution_df[['date', 'num_sequences']].groupby('date').sum().reset_index('date')\n",
    "global_variant_df['num_sequences_cumulative'] = global_variant_df['num_sequences'].cumsum()\n",
    "global_variant_df.head()"
   ]
  },
  {
   "cell_type": "code",
   "execution_count": null,
   "id": "1ffec7f5-3136-40f3-a711-e78f69e943ef",
   "metadata": {
    "tags": []
   },
   "outputs": [],
   "source": [
    "plt.plot(global_variant_df['date'], global_variant_df['num_sequences_cumulative'])\n",
    "plt.plot(countries_deaths_df['date'], countries_deaths_df['total_deaths_per_million'])\n",
    "plt.xticks(rotation=90)\n",
    "plt.show()"
   ]
  },
  {
   "cell_type": "code",
   "execution_count": null,
   "id": "e460311e-fba5-4089-8543-76b12c9695c9",
   "metadata": {
    "tags": []
   },
   "outputs": [],
   "source": [
    "plt.plot(countries_deaths_df['date'], countries_deaths_df['new_deaths_smoothed_per_million'].cumsum())\n",
    "plt.plot(countries_deaths_df['date'], countries_deaths_df['total_deaths_per_million'])\n",
    "plt.legend(['new_deaths_smoothed_per_million', 'total_deaths_per_million'])\n",
    "plt.show()"
   ]
  },
  {
   "cell_type": "code",
   "execution_count": null,
   "id": "5c64a9d3-ef5f-4140-a80b-3e247819db24",
   "metadata": {
    "tags": []
   },
   "outputs": [],
   "source": [
    "world_df = countries_df.loc[countries_df['location'] == 'World']\n",
    "fig, ax = plt.subplots()\n",
    "ax.plot(world_df['date'], world_df['reproduction_rate'])\n",
    "ax.set_ylabel(\"reproduction_rate\",color=\"blue\",fontsize=14)\n",
    "ax2=ax.twinx()\n",
    "# make a plot with different y-axis using second axis object\n",
    "ax2.plot(world_df['date'], world_df['total_vaccinations_per_hundred'], color='orange')\n",
    "ax2.set_ylabel(\"total_vaccinations_per_hundred\",color=\"orange\",fontsize=14)\n",
    "plt.show()\n"
   ]
  },
  {
   "cell_type": "code",
   "execution_count": null,
   "id": "94c0b654-b97c-47f2-bb9a-811331ece853",
   "metadata": {},
   "outputs": [],
   "source": [
    "plt.plot(world_df['date'], world_df['total_vaccinations_per_hundred'])\n",
    "plt.plot(world_df['date'], world_df['total_vaccinations_per_hundred'])"
   ]
  },
  {
   "cell_type": "code",
   "execution_count": null,
   "id": "95ebc2bf-dd9b-4387-b26d-29a618089e68",
   "metadata": {
    "tags": []
   },
   "outputs": [],
   "source": [
    "world_df = countries_df.loc[countries_df['location'] == 'World']\n",
    "fig, ax = plt.subplots()\n",
    "ax.plot(world_df['date'], world_df['excess_mortality_cumulative_per_million'])\n",
    "ax.set_ylabel(\"excess_mortality_cumulative_per_million\",color=\"blue\",fontsize=14)\n",
    "ax2=ax.twinx()\n",
    "# make a plot with different y-axis using second axis object\n",
    "ax2.plot(world_df['date'], world_df['total_vaccinations_per_hundred'], color='orange')\n",
    "ax2.set_ylabel(\"total_vaccinations_per_hundred\",color=\"orange\",fontsize=14)\n",
    "plt.show()\n"
   ]
  },
  {
   "cell_type": "markdown",
   "id": "632a5140-1d26-423c-bb94-d805e2fe77f9",
   "metadata": {},
   "source": [
    "## What happens at the onset of a new variant?"
   ]
  },
  {
   "cell_type": "code",
   "execution_count": null,
   "id": "c65206fa-d2ad-418a-83d2-4fa7eca37fb5",
   "metadata": {
    "tags": []
   },
   "outputs": [],
   "source": [
    "onsets_df = pd.read_parquet('../data/analysis/location_variant_outbreak.parquet')\n",
    "onsets_df = onsets_df.set_index(['continent', 'location', 'variant'])\n",
    "onsets_df.head()"
   ]
  },
  {
   "cell_type": "code",
   "execution_count": null,
   "id": "ad4346b4-5ee2-4a47-a3b5-4b41e2ca5851",
   "metadata": {
    "tags": []
   },
   "outputs": [],
   "source": [
    "united_kingdom_onsets_df = onsets_df.loc[('Europe', 'United Kingdom'), :]\n",
    "united_kingdom_onsets_df"
   ]
  },
  {
   "cell_type": "code",
   "execution_count": null,
   "id": "e4bf55dc-86e7-4edc-a5f0-e0adab7cb4fe",
   "metadata": {
    "tags": []
   },
   "outputs": [],
   "source": [
    "uk_indicators_df = countries_df.loc[countries_df['location'] == 'United Kingdom', :]\n",
    "uk_indicators_df.head()"
   ]
  },
  {
   "cell_type": "markdown",
   "id": "07ea31e0-fcb5-4f85-8e8c-c4038d0cd004",
   "metadata": {
    "tags": []
   },
   "source": [
    "### Do we see a change in reproduction_rate within in an 8 week window around onset of a new variant?\n",
    "\n",
    "Not really,  or there may be, but it seems dominated by seasonal effects and changes to lockdown policy"
   ]
  },
  {
   "cell_type": "code",
   "execution_count": null,
   "id": "af3d639c-bafe-42b5-a236-14783d717bfe",
   "metadata": {
    "tags": []
   },
   "outputs": [],
   "source": [
    "fig, ax = plt.subplots()\n",
    "leg = []\n",
    "for variant, row in united_kingdom_onsets_df.iterrows():\n",
    "    onset_df = uk_indicators_df.loc[\n",
    "        (uk_indicators_df['date'] > row['outbreak_date'] - pd.to_timedelta(28, unit='d')) & (uk_indicators_df['date'] < row['outbreak_date'] + pd.to_timedelta(28, unit='d'))\n",
    "    ]\n",
    "    ax.plot(onset_df['date'], onset_df['reproduction_rate'])\n",
    "    leg.append(variant)\n",
    "\n",
    "plt.legend(leg, loc=7, bbox_to_anchor=(1.5, 0.5))\n",
    "plt.xticks(rotation=90)\n",
    "plt.ylabel('Reproduction Rate')\n",
    "plt.suptitle('What happens to the reproduction rate around the outbreak of a new variant?')\n",
    "plt.title('Shown for United Kingdom; 4 weeks either side of first detected sequence')\n",
    "plt.show()"
   ]
  },
  {
   "cell_type": "code",
   "execution_count": null,
   "id": "ce086d7a-1b2c-4f0f-92ab-74dcd7235de6",
   "metadata": {
    "tags": []
   },
   "outputs": [],
   "source": [
    "fig, ax = plt.subplots()\n",
    "leg = []\n",
    "for variant, row in united_kingdom_onsets_df.iterrows():\n",
    "    onset_df = uk_indicators_df.loc[\n",
    "        (uk_indicators_df['date'] > row['outbreak_date'] - pd.to_timedelta(28, unit='d')) & (uk_indicators_df['date'] < row['outbreak_date'] + pd.to_timedelta(28, unit='d'))\n",
    "    ]\n",
    "    ax.plot(onset_df['date'], onset_df['new_deaths_smoothed_per_million'])\n",
    "    leg.append(variant)\n",
    "\n",
    "plt.legend(leg, loc=7, bbox_to_anchor=(1.5, 0.5))\n",
    "plt.xticks(rotation=90)\n",
    "plt.ylabel('new_deaths_smoothed_per_million')\n",
    "plt.suptitle('What happens to the deaths around the outbreak of a new variant?')\n",
    "plt.title('Shown for United Kingdom; 4 weeks either side of first detected sequence')\n",
    "plt.show()"
   ]
  },
  {
   "cell_type": "code",
   "execution_count": null,
   "id": "41abc2ec-04fe-415f-9adb-dc73b86208a8",
   "metadata": {
    "tags": []
   },
   "outputs": [],
   "source": [
    "fig, ax = plt.subplots()\n",
    "leg = []\n",
    "for variant, row in united_kingdom_onsets_df.iterrows():\n",
    "    onset_df = uk_indicators_df.loc[\n",
    "        (uk_indicators_df['date'] > row['outbreak_date'] - pd.to_timedelta(28, unit='d')) & (uk_indicators_df['date'] < row['outbreak_date'] + pd.to_timedelta(28, unit='d'))\n",
    "    ]\n",
    "    ax.plot(onset_df['date'], onset_df['hosp_patients_per_million'])\n",
    "    leg.append(variant)\n",
    "\n",
    "plt.legend(leg, loc=7, bbox_to_anchor=(1.5, 0.5))\n",
    "plt.xticks(rotation=90)\n",
    "plt.ylabel('hosp_patients_per_million')\n",
    "#plt.suptitle('What happens to the deaths around the outbreak of a new variant?')\n",
    "plt.title('Shown for United Kingdom; 4 weeks either side of first detected sequence')\n",
    "plt.show()"
   ]
  },
  {
   "cell_type": "code",
   "execution_count": null,
   "id": "d80f1ad4-506c-42d0-ae30-937c5ecab7bc",
   "metadata": {
    "tags": []
   },
   "outputs": [],
   "source": [
    "fig, ax = plt.subplots()\n",
    "leg = []\n",
    "for variant, row in united_kingdom_onsets_df.iterrows():\n",
    "    onset_df = uk_indicators_df.loc[\n",
    "        (uk_indicators_df['date'] > row['outbreak_date'] - pd.to_timedelta(28, unit='d')) & (uk_indicators_df['date'] < row['outbreak_date'] + pd.to_timedelta(28, unit='d'))\n",
    "    ]\n",
    "    ax.plot(onset_df['date'], onset_df['positive_rate'])\n",
    "    leg.append(variant)\n",
    "\n",
    "plt.legend(leg, loc=7, bbox_to_anchor=(1.5, 0.5))\n",
    "plt.xticks(rotation=90)\n",
    "plt.ylabel('positive_rate')\n",
    "#plt.suptitle('What happens to the deaths around the outbreak of a new variant?')\n",
    "plt.title('Shown for United Kingdom; 4 weeks either side of first detected sequence')\n",
    "plt.show()"
   ]
  },
  {
   "cell_type": "code",
   "execution_count": null,
   "id": "3a6ddc15-b3b8-4176-b074-42ec28ab0e75",
   "metadata": {
    "tags": []
   },
   "outputs": [],
   "source": [
    "fig, ax = plt.subplots()\n",
    "leg = []\n",
    "for variant, row in united_kingdom_onsets_df.iterrows():\n",
    "    onset_df = uk_indicators_df.loc[\n",
    "        (uk_indicators_df['date'] > row['outbreak_date'] - pd.to_timedelta(28, unit='d')) & (uk_indicators_df['date'] < row['outbreak_date'] + pd.to_timedelta(28, unit='d'))\n",
    "    ]\n",
    "    ax.plot(onset_df['date'], onset_df['stringency_index'])\n",
    "    leg.append(variant)\n",
    "\n",
    "plt.legend(leg, loc=7, bbox_to_anchor=(1.5, 0.5))\n",
    "plt.xticks(rotation=90)\n",
    "plt.ylabel('stringency_index')\n",
    "#plt.suptitle('What happens to the deaths around the outbreak of a new variant?')\n",
    "plt.title('Shown for United Kingdom; 4 weeks either side of first detected sequence')\n",
    "plt.show()"
   ]
  },
  {
   "cell_type": "markdown",
   "id": "1bfea950-7f65-406d-af4e-c8b6b3136888",
   "metadata": {},
   "source": [
    "## Are there any correlations between when a country gets a variant and it's indicators?"
   ]
  },
  {
   "cell_type": "code",
   "execution_count": null,
   "id": "50a61fc4-3046-495d-84a1-088639be114a",
   "metadata": {
    "tags": []
   },
   "outputs": [],
   "source": [
    "predictors = pd.read_parquet('../data/analysis/predictors.parquet')\n",
    "predictors.head()"
   ]
  },
  {
   "cell_type": "code",
   "execution_count": null,
   "id": "887d3deb-cb71-4acf-b886-d62ba384331e",
   "metadata": {
    "tags": []
   },
   "outputs": [],
   "source": [
    "ranks_df = pd.read_parquet('../data/analysis/location_outbreak.parquet')\n",
    "ranks_df.head()"
   ]
  },
  {
   "cell_type": "code",
   "execution_count": null,
   "id": "a125e403-a4f0-47aa-9fc3-4baba8d91d2f",
   "metadata": {
    "tags": []
   },
   "outputs": [],
   "source": [
    "location_df.head()"
   ]
  },
  {
   "cell_type": "code",
   "execution_count": null,
   "id": "1d37169d-c5de-4ea9-8dae-c9e4114c0b0b",
   "metadata": {
    "tags": []
   },
   "outputs": [],
   "source": [
    "location_rank_df = location_df.merge(ranks_df, on='location', how='left')\n",
    "location_rank_corr_df = location_rank_df.corr()\n",
    "location_rank_corr_df"
   ]
  },
  {
   "cell_type": "code",
   "execution_count": null,
   "id": "4963d79b-417e-4d15-96c4-904647294218",
   "metadata": {
    "tags": []
   },
   "outputs": [],
   "source": [
    "rho = location_rank_df.corr()\n",
    "pval = location_rank_df.corr(method=lambda x, y: pearsonr(x, y)[1]) - np.eye(*rho.shape)\n",
    "p = pval.applymap(lambda x: ''.join(['*' for t in [.05, .01, .001] if x<=t]))\n",
    "rho.round(2).astype(str) + p"
   ]
  },
  {
   "cell_type": "code",
   "execution_count": null,
   "id": "919325da-7f7b-4457-bb23-123d3ae271d8",
   "metadata": {
    "tags": []
   },
   "outputs": [],
   "source": [
    "\n",
    "\n",
    "pvalues = np.zeros(location_rank_corr_df.shape,dtype=np.float64)\n",
    "col_index = {name: num for num,name in enumerate(location_rank_corr_df.columns)}\n",
    "\n",
    "for cola, colb in combinations(location_rank_corr_df.columns, 2):\n",
    "    nanless_locatiion_rank_df = location_rank_df.loc[~location_rank_df[[cola, colb]].isna().any(axis=1)]\n",
    "    result = pearsonr(nanless_locatiion_rank_df[cola], nanless_locatiion_rank_df[colb])\n",
    "    cai = col_index[cola]\n",
    "    cbi = col_index[colb]\n",
    "    pvalues[cai][cbi] = result.pvalue\n",
    "    pvalues[cbi][cai] = result.pvalue\n",
    "\n",
    "pvalues_df = pd.DataFrame(pvalues, columns = location_rank_corr_df.columns, index = location_rank_corr_df.index)\n",
    "pvalues_df"
   ]
  },
  {
   "cell_type": "code",
   "execution_count": null,
   "id": "cec8eb53-8d23-4262-a5b3-58b0f708326c",
   "metadata": {
    "tags": []
   },
   "outputs": [],
   "source": [
    "result = pearsonr(nanless_locatiion_rank_df[cola], nanless_locatiion_rank_df[colb])"
   ]
  },
  {
   "cell_type": "code",
   "execution_count": null,
   "id": "56c01105-6219-4ef5-ab26-f1177b07e94d",
   "metadata": {
    "tags": []
   },
   "outputs": [],
   "source": [
    "onsets_df.reset_index(['continent','variant']).head()"
   ]
  },
  {
   "cell_type": "code",
   "execution_count": null,
   "id": "abc6d268-8385-4b0c-8135-490398bc8753",
   "metadata": {
    "tags": []
   },
   "outputs": [],
   "source": [
    "variant_onsets_df = onsets_df.reset_index(['continent','location'])\n",
    "variant_onsets_df.head()"
   ]
  },
  {
   "cell_type": "code",
   "execution_count": null,
   "id": "d649b46d-9f7f-4c5c-92e0-4250bf49b028",
   "metadata": {
    "tags": []
   },
   "outputs": [],
   "source": [
    "from IPython.display import display, Markdown\n",
    "for variant in variant_onsets_df.index.unique():\n",
    "    df = location_df.merge(variant_onsets_df.loc[variant, ['location', 'outbreak_rank_global']], on='location', how='left')\n",
    "    rho = df.corr()\n",
    "    pval = df.corr(method=lambda x, y: pearsonr(x, y)[1]) - np.eye(*rho.shape)\n",
    "    p = pval.applymap(lambda x: ''.join(['*' for t in [.05, .01, .001] if x<=t]))\n",
    "    display(Markdown('\\n#### ' + variant + '\\n\\n'))\n",
    "    display(rho.round(2).astype(str) + p)"
   ]
  },
  {
   "cell_type": "markdown",
   "id": "f6499045-810b-49f0-9830-e6a602da0c90",
   "metadata": {
    "tags": []
   },
   "source": [
    "#### But What about combined global ranking?"
   ]
  },
  {
   "cell_type": "code",
   "execution_count": null,
   "id": "9b164679-4703-421b-9e78-aff6b2b2a48e",
   "metadata": {
    "tags": []
   },
   "outputs": [],
   "source": [
    "onsets_df.head()"
   ]
  },
  {
   "cell_type": "code",
   "execution_count": null,
   "id": "42424f9e-3425-4c22-9894-3394f5599fad",
   "metadata": {
    "tags": []
   },
   "outputs": [],
   "source": [
    "ranked_df = onsets_df #first_appearance_df.groupby(['continent', 'variant']).rank('min')\n",
    "ranked_df = ranked_df.reset_index().pivot(index=['continent', 'location'], columns=['variant'], values=['outbreak_date'])\n",
    "ranked_df.columns = ranked_df.columns.get_level_values(1)\n",
    "ranked_df"
   ]
  },
  {
   "cell_type": "code",
   "execution_count": null,
   "id": "aff71fa5-1163-458f-b0b4-17b4f67b5e29",
   "metadata": {
    "tags": []
   },
   "outputs": [],
   "source": [
    "early_hit_ranked_df = ranked_df.drop(\n",
    "    ['others', 'non_who'], axis=1\n",
    ")\n",
    "early_hit_ranked_df.head()"
   ]
  },
  {
   "cell_type": "code",
   "execution_count": null,
   "id": "84015309-e401-4690-b66a-a3c4c9217ec0",
   "metadata": {
    "tags": []
   },
   "outputs": [],
   "source": [
    "early_hit_ranked_df = ehr.calculate_combined_rank(early_hit_ranked_df.transpose())\n",
    "early_hit_ranked_df.name = 'early_hit_ranking'"
   ]
  },
  {
   "cell_type": "code",
   "execution_count": null,
   "id": "054e4790-f4e0-41b4-a390-d7b3aff68ec3",
   "metadata": {
    "tags": []
   },
   "outputs": [],
   "source": [
    "location_rank_df = location_df.merge(early_hit_ranked_df, on='location', how='left')\n",
    "rho = location_rank_df.corr()\n",
    "num_comparisons = pow(len(rho.columns),2) - len(rho.columns)\n",
    "pval = location_rank_df.corr(method=lambda x, y: pearsonr(x, y)[1]) - np.eye(*rho.shape)\n",
    "p = pval.applymap(lambda x: ''.join(['*' for t in [.05, .01, .001] if x<=(t/num_comparisons)]))\n",
    "rho.round(2).astype(str) + p"
   ]
  },
  {
   "cell_type": "code",
   "execution_count": null,
   "id": "3f6fbfb4-eeb2-4814-8954-12d3903c6322",
   "metadata": {
    "tags": []
   },
   "outputs": [],
   "source": [
    "pval"
   ]
  },
  {
   "cell_type": "code",
   "execution_count": null,
   "id": "ab98ad56-0a4b-4a3a-8640-a4073b0f5693",
   "metadata": {
    "tags": []
   },
   "outputs": [],
   "source": [
    "num_comparisons"
   ]
  },
  {
   "cell_type": "code",
   "execution_count": null,
   "id": "a7fe0ecd-dcf2-4ee0-a027-36bb590a4d8f",
   "metadata": {
    "tags": []
   },
   "outputs": [],
   "source": [
    "pval.loc['population_density', 'population_density']"
   ]
  },
  {
   "cell_type": "code",
   "execution_count": null,
   "id": "5de66d86-7932-4296-bf19-7c83714f7ea7",
   "metadata": {
    "tags": []
   },
   "outputs": [],
   "source": [
    "fig, ax = plt.subplots(figsize=(12, 12))\n",
    "im = ax.imshow(rho)\n",
    "\n",
    "# Show all ticks and label them with the respective list entries\n",
    "ax.set_xticks(np.arange(len(rho.columns)), labels=rho.columns)\n",
    "ax.set_yticks(np.arange(len(rho.columns)), labels=rho.columns)\n",
    "# Rotate the tick labels and set their alignment.\n",
    "plt.setp(ax.get_xticklabels(), rotation=45, ha=\"right\",\n",
    "         rotation_mode=\"anchor\")\n",
    "\n",
    "# Loop over data dimensions and create text annotations.\n",
    "for i, iname in enumerate(rho.columns):\n",
    "    for j, jname in enumerate(rho.columns):\n",
    "        text = ax.text(j, i, p.loc[iname, jname],\n",
    "                       ha=\"center\", va=\"center\", color=\"w\", size=14)\n",
    "   \n",
    "plt.colorbar(im, ax=ax)\n",
    "plt.show()"
   ]
  },
  {
   "cell_type": "markdown",
   "id": "4529a8cd-8faa-4d2e-82b0-817a6398051e",
   "metadata": {},
   "source": [
    "## So what about adding some mean stats from onset windows?"
   ]
  },
  {
   "cell_type": "code",
   "execution_count": null,
   "id": "e962044e-bda7-4531-8f9d-fa306c30c770",
   "metadata": {
    "tags": []
   },
   "outputs": [],
   "source": [
    "onsets_df = pd.read_parquet('../data/analysis/location_variant_outbreak.parquet')\n",
    "onsets_df = onsets_df.set_index(['continent', 'location', 'variant'])\n",
    "onsets_df.head()"
   ]
  },
  {
   "cell_type": "code",
   "execution_count": null,
   "id": "ccb8ae73-7dbb-4883-aa92-1e485f011831",
   "metadata": {
    "tags": []
   },
   "outputs": [],
   "source": [
    "per_variant = list()\n",
    "for variant in onsets_df.index.get_level_values(2).unique():\n",
    "    #variant = 'Alpha'\n",
    "    foo = onsets_df.reset_index(['continent', 'location']).loc[variant].merge(countries_df, on=['continent', 'location'], how='left')\n",
    "    foo = foo.loc[abs(foo['date'] - foo['outbreak_date']) < pd.to_timedelta(14, unit='d'),:]\n",
    "    foo = foo.groupby(['continent', 'location']).mean(numeric_only=True)\n",
    "    per_variant.append(foo)\n",
    "    \n",
    "foo = pd.concat(per_variant)\n",
    "\n",
    "#countries_df.loc[countries_df['location'] == 'World', ['date', 'new_deaths_per_million', 'new_deaths_smoothed_per_million', 'total_deaths_per_million']]"
   ]
  },
  {
   "cell_type": "code",
   "execution_count": null,
   "id": "5569043d-783d-4ffc-ae00-d1411f08bfd4",
   "metadata": {
    "tags": []
   },
   "outputs": [],
   "source": [
    "countries_df.columns"
   ]
  },
  {
   "cell_type": "code",
   "execution_count": null,
   "id": "a571b859-7ee8-498a-8e9e-f3ee7a760236",
   "metadata": {
    "tags": []
   },
   "outputs": [],
   "source": [
    "bob = foo[[\n",
    "    'outbreak_rank_global', 'new_deaths_smoothed_per_million', 'reproduction_rate', 'new_tests_per_thousand', 'total_vaccinations_per_hundred',\n",
    "    'population_density', 'median_age', 'aged_65_older', 'aged_70_older', 'gdp_per_capita', 'extreme_poverty', 'cardiovasc_death_rate', 'diabetes_prevalence', \n",
    "    'female_smokers', 'male_smokers', 'handwashing_facilities', 'hospital_beds_per_thousand', 'life_expectancy', 'human_development_index', 'population'\n",
    "]]\n",
    "rho = bob.corr()\n",
    "num_comparisons = pow(len(rho.columns),2) - len(rho.columns)\n",
    "pval = bob.corr(method=lambda x, y: pearsonr(x, y)[1]) - np.eye(*rho.shape)\n",
    "p = pval.applymap(lambda x: ''.join(['*' for t in [.05, .01, .001] if x<=(t/num_comparisons)]))\n",
    "rho.round(2).astype(str) + p\n",
    "\n",
    "fig, ax = plt.subplots(figsize=(12, 12))\n",
    "im = ax.imshow(rho)\n",
    "\n",
    "# Show all ticks and label them with the respective list entries\n",
    "ax.set_xticks(np.arange(len(rho.columns)), labels=rho.columns)\n",
    "ax.set_yticks(np.arange(len(rho.columns)), labels=rho.columns)\n",
    "# Rotate the tick labels and set their alignment.\n",
    "plt.setp(ax.get_xticklabels(), rotation=45, ha=\"right\",\n",
    "         rotation_mode=\"anchor\")\n",
    "\n",
    "# Loop over data dimensions and create text annotations.\n",
    "for i, iname in enumerate(rho.columns):\n",
    "    for j, jname in enumerate(rho.columns):\n",
    "        text = ax.text(j, i, p.loc[iname, jname],\n",
    "                       ha=\"center\", va=\"center\", color=\"w\", size=14)\n",
    "   \n",
    "plt.colorbar(im, ax=ax)\n",
    "plt.title(\"Correlation between per variant outbreak order and various country indicators\\nNote: lower outbreak_rank_global indicates a country was hit earlier\")\n",
    "plt.show()"
   ]
  },
  {
   "cell_type": "code",
   "execution_count": null,
   "id": "8796065c-91bb-4892-8e28-4e55bf49eccc",
   "metadata": {
    "tags": []
   },
   "outputs": [],
   "source": [
    "bob = foo[[\n",
    "    'outbreak_rank_global', 'new_deaths_smoothed_per_million', 'reproduction_rate', 'new_tests_per_thousand', 'total_vaccinations_per_hundred',\n",
    "    'population_density', 'median_age', 'gdp_per_capita', 'extreme_poverty', 'cardiovasc_death_rate', 'diabetes_prevalence', \n",
    "    'female_smokers', 'male_smokers', 'handwashing_facilities', 'hospital_beds_per_thousand', 'life_expectancy', 'human_development_index', 'population'\n",
    "]]\n",
    "rho = bob.corr()\n",
    "num_comparisons = pow(len(rho.columns),2) - len(rho.columns)\n",
    "pval = bob.corr(method=lambda x, y: pearsonr(x, y)[1]) - np.eye(*rho.shape)\n",
    "p = pval.applymap(lambda x: ''.join(['*' for t in [.05, .01, .001] if x<=(t/num_comparisons)]))\n",
    "rho.round(2).astype(str) + p\n",
    "\n",
    "fig, ax = plt.subplots(figsize=(10, 10))\n",
    "im = ax.imshow(rho)\n",
    "\n",
    "# Show all ticks and label them with the respective list entries\n",
    "ax.set_xticks(np.arange(len(rho.columns)), labels=rho.columns)\n",
    "ax.set_yticks(np.arange(len(rho.columns)), labels=rho.columns)\n",
    "# Rotate the tick labels and set their alignment.\n",
    "plt.setp(ax.get_xticklabels(), rotation=45, ha=\"right\",\n",
    "         rotation_mode=\"anchor\")\n",
    "\n",
    "# Loop over data dimensions and create text annotations.\n",
    "for i, iname in enumerate(rho.columns):\n",
    "    for j, jname in enumerate(rho.columns):\n",
    "        text = ax.text(j, i, p.loc[iname, jname],\n",
    "                       ha=\"center\", va=\"center\", color=\"w\", size=14)\n",
    "   \n",
    "plt.colorbar(im, ax=ax)\n",
    "plt.title(\"Correlation between per variant outbreak order and various country indicators\\nNote: lower outbreak_rank_global indicates a country was hit earlier\")\n",
    "plt.show()"
   ]
  },
  {
   "cell_type": "markdown",
   "id": "550a3d09-e216-447d-9f5f-9ae422576f72",
   "metadata": {},
   "source": [
    "### What if we limit the rank calculations to monthly resolution, to account for the fact that reporting isn't even?"
   ]
  },
  {
   "cell_type": "code",
   "execution_count": null,
   "id": "ec1c3c91-1f21-44aa-93c1-47a49c611bca",
   "metadata": {
    "tags": []
   },
   "outputs": [],
   "source": [
    "flattened_early_hit_ranked_df = ranked_df.drop(\n",
    "    ['others', 'non_who'], axis=1\n",
    ")\n",
    "flattened_early_hit_ranked_df = flattened_early_hit_ranked_df.applymap(lambda x: pd.to_datetime(x.strftime('%Y-%m-01') if not pd.isnull(x) else pd.NaT))\n",
    "flattened_early_hit_ranked_df.head()"
   ]
  },
  {
   "cell_type": "code",
   "execution_count": null,
   "id": "25bdf9ae-a823-4c58-8edf-d795308579d4",
   "metadata": {
    "tags": []
   },
   "outputs": [],
   "source": [
    "flattened_early_hit_ranked_df = ehr.calculate_combined_rank(flattened_early_hit_ranked_df.transpose())\n",
    "flattened_early_hit_ranked_df.name = 'flattened_early_hit_ranking'"
   ]
  },
  {
   "cell_type": "code",
   "execution_count": null,
   "id": "105f3edb-ff1f-4816-ae06-09b45147f975",
   "metadata": {
    "tags": []
   },
   "outputs": [],
   "source": [
    "bob = foo[[\n",
    "    'outbreak_rank_global', 'new_deaths_smoothed_per_million', 'reproduction_rate', 'new_tests_per_thousand', 'total_vaccinations_per_hundred',\n",
    "    'population_density', 'median_age', 'aged_65_older', 'aged_70_older', 'gdp_per_capita', 'extreme_poverty', 'cardiovasc_death_rate', 'diabetes_prevalence', \n",
    "    'female_smokers', 'male_smokers', 'handwashing_facilities', 'hospital_beds_per_thousand', 'life_expectancy', 'human_development_index', 'population'\n",
    "]].merge(flattened_early_hit_ranked_df, on='location', how='left')\n",
    "rho = bob.corr()\n",
    "num_comparisons = pow(len(rho.columns),2) - len(rho.columns)\n",
    "pval = bob.corr(method=lambda x, y: pearsonr(x, y)[1]) - np.eye(*rho.shape)\n",
    "p = pval.applymap(lambda x: ''.join(['*' for t in [.05, .01, .001] if x<=(t/num_comparisons)]))\n",
    "rho.round(2).astype(str) + p\n",
    "\n",
    "fig, ax = plt.subplots(figsize=(12, 12))\n",
    "im = ax.imshow(rho)\n",
    "\n",
    "# Show all ticks and label them with the respective list entries\n",
    "ax.set_xticks(np.arange(len(rho.columns)), labels=rho.columns)\n",
    "ax.set_yticks(np.arange(len(rho.columns)), labels=rho.columns)\n",
    "# Rotate the tick labels and set their alignment.\n",
    "plt.setp(ax.get_xticklabels(), rotation=45, ha=\"right\",\n",
    "         rotation_mode=\"anchor\")\n",
    "\n",
    "# Loop over data dimensions and create text annotations.\n",
    "for i, iname in enumerate(rho.columns):\n",
    "    for j, jname in enumerate(rho.columns):\n",
    "        text = ax.text(j, i, p.loc[iname, jname],\n",
    "                       ha=\"center\", va=\"center\", color=\"w\", size=14)\n",
    "   \n",
    "plt.colorbar(im, ax=ax)\n",
    "plt.title(\"Correlation between per variant outbreak order and various country indicators\\nNote: lower outbreak_rank_global indicates a country was hit earlier\")\n",
    "plt.show()"
   ]
  },
  {
   "cell_type": "markdown",
   "id": "c7c1d334-a0e2-4a9f-a6bc-cec68c03ba69",
   "metadata": {},
   "source": [
    "### How much difference will that make?"
   ]
  },
  {
   "cell_type": "code",
   "execution_count": null,
   "id": "2c1b902b-f32b-48c7-80b8-f889b7b01282",
   "metadata": {
    "tags": []
   },
   "outputs": [],
   "source": [
    "early_hit_ranked_df = ranked_df.drop(\n",
    "    ['others', 'non_who'], axis=1\n",
    ")\n",
    "#early_hit_ranked_df = early_hit_ranked_df.applymap(lambda x: pd.to_datetime(x.strftime('%Y-%m-01') if not pd.isnull(x) else pd.NaT))\n",
    "early_hit_ranked_df = ehr.calculate_combined_rank(early_hit_ranked_df.transpose())\n",
    "early_hit_ranked_df.name = 'early_hit_ranking'\n",
    "early_hit_ranked_df.head()"
   ]
  },
  {
   "cell_type": "code",
   "execution_count": null,
   "id": "7a0940ff-cb1f-4f7b-9652-a28b6b6ea6cd",
   "metadata": {
    "tags": []
   },
   "outputs": [],
   "source": [
    "pearsonr(flattened_early_hit_ranked_df, early_hit_ranked_df)"
   ]
  },
  {
   "cell_type": "code",
   "execution_count": null,
   "id": "2d208554-dd85-47e2-bb4f-50c10692d42a",
   "metadata": {
    "tags": []
   },
   "outputs": [],
   "source": [
    "plt.scatter(flattened_early_hit_ranked_df, early_hit_ranked_df)\n",
    "plt.ylabel('Schulze Ranking based on actual onset dates')\n",
    "plt.xlabel('Schulze Ranking based on onset dates by month')"
   ]
  },
  {
   "cell_type": "code",
   "execution_count": null,
   "id": "913e8c50-f8fc-4be8-ad22-65c8020ec233",
   "metadata": {
    "tags": []
   },
   "outputs": [],
   "source": [
    "(flattened_early_hit_ranked_df - early_hit_ranked_df).abs().sort_values()"
   ]
  },
  {
   "cell_type": "markdown",
   "id": "ee98fe50-7fc2-42be-b37b-3d2da774f6c8",
   "metadata": {},
   "source": [
    "### What if we limit the rank calculations to Annual resolution, to account for the fact that reporting isn't even?"
   ]
  },
  {
   "cell_type": "code",
   "execution_count": null,
   "id": "623f7fc0-be8f-4709-b591-e223e7ff5632",
   "metadata": {
    "tags": []
   },
   "outputs": [],
   "source": [
    "nodate_early_hit_ranked_df = ranked_df.drop(\n",
    "    ['others', 'non_who'], axis=1\n",
    ")\n",
    "nodate_early_hit_ranked_df = nodate_early_hit_ranked_df.applymap(lambda x: pd.to_datetime(x.strftime('2020-01-01') if not pd.isnull(x) else pd.NaT))\n",
    "nodate_early_hit_ranked_df.head()"
   ]
  },
  {
   "cell_type": "code",
   "execution_count": null,
   "id": "91fcdeaa-ff81-415c-b920-a320b3140982",
   "metadata": {
    "tags": []
   },
   "outputs": [],
   "source": [
    "nodate_early_hit_ranked_df = ehr.calculate_combined_rank(nodate_early_hit_ranked_df.transpose())\n",
    "nodate_early_hit_ranked_df.name = 'nodate_early_hit_ranked_df'"
   ]
  },
  {
   "cell_type": "code",
   "execution_count": null,
   "id": "5a6a936b-59db-4f48-a528-b9dc72a59435",
   "metadata": {
    "tags": []
   },
   "outputs": [],
   "source": [
    "bob = foo[[\n",
    "    'outbreak_rank_global', 'new_deaths_smoothed_per_million', 'reproduction_rate', 'new_tests_per_thousand', 'total_vaccinations_per_hundred',\n",
    "    'population_density', 'median_age', 'aged_65_older', 'aged_70_older', 'gdp_per_capita', 'extreme_poverty', 'cardiovasc_death_rate', 'diabetes_prevalence', \n",
    "    'female_smokers', 'male_smokers', 'handwashing_facilities', 'hospital_beds_per_thousand', 'life_expectancy', 'human_development_index', 'population'\n",
    "]].merge(nodate_early_hit_ranked_df, on='location', how='left')\n",
    "rho = bob.corr()\n",
    "num_comparisons = pow(len(rho.columns),2) - len(rho.columns)\n",
    "pval = bob.corr(method=lambda x, y: pearsonr(x, y)[1]) - np.eye(*rho.shape)\n",
    "p = pval.applymap(lambda x: ''.join(['*' for t in [.05, .01, .001] if x<=(t/num_comparisons)]))\n",
    "rho.round(2).astype(str) + p\n",
    "\n",
    "fig, ax = plt.subplots(figsize=(12, 12))\n",
    "im = ax.imshow(rho)\n",
    "\n",
    "# Show all ticks and label them with the respective list entries\n",
    "ax.set_xticks(np.arange(len(rho.columns)), labels=rho.columns)\n",
    "ax.set_yticks(np.arange(len(rho.columns)), labels=rho.columns)\n",
    "# Rotate the tick labels and set their alignment.\n",
    "plt.setp(ax.get_xticklabels(), rotation=45, ha=\"right\",\n",
    "         rotation_mode=\"anchor\")\n",
    "\n",
    "# Loop over data dimensions and create text annotations.\n",
    "for i, iname in enumerate(rho.columns):\n",
    "    for j, jname in enumerate(rho.columns):\n",
    "        text = ax.text(j, i, p.loc[iname, jname],\n",
    "                       ha=\"center\", va=\"center\", color=\"w\", size=14)\n",
    "   \n",
    "plt.colorbar(im, ax=ax)\n",
    "plt.title(\"Correlation between per variant outbreak order and various country indicators\\nNote: lower outbreak_rank_global indicates a country was hit earlier\")\n",
    "plt.show()"
   ]
  },
  {
   "cell_type": "code",
   "execution_count": null,
   "id": "c3c20bbd-3eed-48ba-b691-a37c0f12314f",
   "metadata": {
    "tags": []
   },
   "outputs": [],
   "source": [
    "pearsonr(nodate_early_hit_ranked_df, early_hit_ranked_df)"
   ]
  },
  {
   "cell_type": "code",
   "execution_count": null,
   "id": "18b4c0e1-a9f5-41be-bc3d-aa22ca9741e9",
   "metadata": {
    "tags": []
   },
   "outputs": [],
   "source": [
    "plt.scatter(nodate_early_hit_ranked_df, early_hit_ranked_df)\n",
    "plt.ylabel('early_hit_ranked')\n",
    "plt.xlabel('nodate_early_hit_ranked_df')"
   ]
  }
 ],
 "metadata": {
  "kernelspec": {
   "display_name": "Python 3 (ipykernel)",
   "language": "python",
   "name": "python3"
  },
  "language_info": {
   "codemirror_mode": {
    "name": "ipython",
    "version": 3
   },
   "file_extension": ".py",
   "mimetype": "text/x-python",
   "name": "python",
   "nbconvert_exporter": "python",
   "pygments_lexer": "ipython3",
   "version": "3.10.9"
  }
 },
 "nbformat": 4,
 "nbformat_minor": 5
}
