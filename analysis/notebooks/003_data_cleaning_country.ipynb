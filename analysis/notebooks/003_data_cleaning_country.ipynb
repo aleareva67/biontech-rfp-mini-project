{
 "cells": [
  {
   "cell_type": "markdown",
   "id": "ec10682b-15b1-4240-81ac-56c663201695",
   "metadata": {},
   "source": [
    "# Data Cleaning & Validation - Country Indicator Data\n",
    "\n",
    "**Author:** Alan Meeson <alan.meeson@capgemini.com>\n",
    "\n",
    "**Date:** 2023-02-06\n",
    "\n",
    "This notebook captures assumptions about the data, and validation of those assumptions.\n",
    "This can serve as a template for the Cleaning and Validation stage of the ETL process for the country data.\n",
    "\n",
    "Key findings are:\n",
    "- There is a large quantity of missing data in most columns\n",
    "- Some columns are on varying frequencies of sampling,  eg: excess mortality can be monthly, weekly, or other, varying by location.\n",
    "- The location column does not only contain countries, but also continents, world, and socio-economic categories.\n",
    "\n",
    "The analysis here has not been as thorough as might be preferable,  however time is limited."
   ]
  },
  {
   "cell_type": "code",
   "execution_count": null,
   "id": "86a3ba66-9543-4638-ba27-f445584e7204",
   "metadata": {
    "tags": []
   },
   "outputs": [],
   "source": [
    "import os\n",
    "import re\n",
    "import datetime\n",
    "import numpy as np\n",
    "import pandas as pd\n",
    "import pandera as pa\n",
    "import matplotlib.pyplot as plt"
   ]
  },
  {
   "cell_type": "code",
   "execution_count": null,
   "id": "0ddf84f9-1de4-45a2-862f-2726b3e85acd",
   "metadata": {
    "tags": []
   },
   "outputs": [],
   "source": [
    "pd.set_option('display.max_columns', None)"
   ]
  },
  {
   "cell_type": "code",
   "execution_count": null,
   "id": "a178f596-c82b-4676-9bb8-d84c054b0c6e",
   "metadata": {
    "tags": []
   },
   "outputs": [],
   "source": [
    "data_dir = '../data'\n",
    "country_filename = os.path.join(data_dir, 'raw', 'Data2_Large set of country indicators.xlsx')\n",
    "cleaned_country_filename = os.path.join(data_dir, 'cleaned', 'country_indicators.parquet')"
   ]
  },
  {
   "cell_type": "markdown",
   "id": "46c79590-bdce-427b-8390-0c2a00d0e3d6",
   "metadata": {},
   "source": [
    "## Explore the Country Data\n",
    "Key data available:\n",
    "- Deaths & excess mortality\n",
    "- Reproduction rate\n",
    "- Hospitalisation\n",
    "- Tests & positive rate\n",
    "- Vaccinations\n",
    "- stringency_index (of lockdowns?)\n",
    "- population statistics (density, age, wealth, handwashing, etc.)\n"
   ]
  },
  {
   "cell_type": "code",
   "execution_count": null,
   "id": "02c561c7-3fec-44c5-ad7a-b4dff7ece8b0",
   "metadata": {
    "tags": []
   },
   "outputs": [],
   "source": [
    "countries_df = pd.read_excel(\n",
    "    country_filename, \n",
    "    parse_dates=['date']\n",
    ")"
   ]
  },
  {
   "cell_type": "markdown",
   "id": "96d13816-98cd-447d-aef5-a3dfd0f1870a",
   "metadata": {},
   "source": [
    "### Initial Look and Datatypes"
   ]
  },
  {
   "cell_type": "code",
   "execution_count": null,
   "id": "a660557e-8751-421e-b75a-f4443dfd7ad4",
   "metadata": {
    "tags": []
   },
   "outputs": [],
   "source": [
    "countries_df.head()"
   ]
  },
  {
   "cell_type": "code",
   "execution_count": null,
   "id": "95a14252-f43b-4727-b409-c05c64098186",
   "metadata": {
    "tags": []
   },
   "outputs": [],
   "source": [
    "countries_df.dtypes"
   ]
  },
  {
   "cell_type": "markdown",
   "id": "94d3abc8-d148-409d-9c9a-ccd6c8ddc6e3",
   "metadata": {},
   "source": [
    "### Explore the columns"
   ]
  },
  {
   "cell_type": "markdown",
   "id": "d24ce313-4207-4a1a-9508-0f3addb5b25a",
   "metadata": {},
   "source": [
    "#### Continents & Locations\n",
    "\n",
    "First, let's have a look at what different continents we have data for.\n",
    "\n",
    "We get the expected set (we don't really expect to get covid variant data from the antarctic), with the addition of some which are nan."
   ]
  },
  {
   "cell_type": "code",
   "execution_count": null,
   "id": "ce467580-b945-4e18-9b3a-be9ad4c34db5",
   "metadata": {
    "tags": []
   },
   "outputs": [],
   "source": [
    "countries_df.continent.unique()"
   ]
  },
  {
   "cell_type": "markdown",
   "id": "914dd33a-ae44-43d2-b8d3-de7b63768a73",
   "metadata": {
    "tags": []
   },
   "source": [
    "So, what locations have `nan` as a continent?  \n",
    "- It turns out that we have some locations which are not countries,  but rather are aggregations over the continents & globe.\n",
    "- Also that we have some which which are varying income levels."
   ]
  },
  {
   "cell_type": "code",
   "execution_count": null,
   "id": "b98e1185-c58f-4959-ab1b-97d88d48a38a",
   "metadata": {
    "tags": []
   },
   "outputs": [],
   "source": [
    "countries_df.loc[countries_df['continent'].isna(), 'location'].unique()"
   ]
  },
  {
   "cell_type": "markdown",
   "id": "dd99c61f-4818-459f-8f7b-d07ad479968c",
   "metadata": {
    "tags": []
   },
   "source": [
    "#### Test Units\n",
    "\n",
    "This is the only other non-numeric column, so lets have a look.  It seems to be an indication of what units the columns about tests are given in.\n",
    "\n",
    "Questions to consider:  \n",
    "    - do the units make any difference here?\n",
    "    - Is there a systematic pattern by location or time as to what units are used?"
   ]
  },
  {
   "cell_type": "code",
   "execution_count": null,
   "id": "8b95f685-d297-4c10-986c-e04fc19e1c55",
   "metadata": {
    "tags": []
   },
   "outputs": [],
   "source": [
    "countries_df.tests_units.unique()"
   ]
  },
  {
   "cell_type": "markdown",
   "id": "a18ccf91-56c6-4669-9998-fac8efa03de1",
   "metadata": {},
   "source": [
    "#### General description of columns"
   ]
  },
  {
   "cell_type": "code",
   "execution_count": null,
   "id": "1f426f17-431d-480a-bf85-795ca8347989",
   "metadata": {
    "tags": []
   },
   "outputs": [],
   "source": [
    "countries_df.describe()"
   ]
  },
  {
   "cell_type": "markdown",
   "id": "e976fbff-0beb-4be5-b39b-888573a051f6",
   "metadata": {},
   "source": [
    "#### Percentage of null values"
   ]
  },
  {
   "cell_type": "code",
   "execution_count": null,
   "id": "41b5c6b8-25d9-4a80-9aad-aa52082463a4",
   "metadata": {
    "tags": []
   },
   "outputs": [],
   "source": [
    "100 * countries_df.apply(lambda x: sum(x.isna()), axis=0) / countries_df.shape[0]"
   ]
  },
  {
   "cell_type": "markdown",
   "id": "f3f4e686-a1ed-45e3-b6b4-3bf8e23bcc9c",
   "metadata": {},
   "source": [
    "## Clean and Transform"
   ]
  },
  {
   "cell_type": "code",
   "execution_count": null,
   "id": "fe388fcd-9914-4f63-9fba-98297c446d95",
   "metadata": {},
   "outputs": [],
   "source": [
    "countries_df = pd.read_excel(\n",
    "    country_filename, \n",
    "    dtype={\n",
    "        'continent': str, # Continent the location is on. May be null if location is itsself a continent, or a socioeconomic class, or just the whole world\n",
    "        'location': str, # Mostly countries, not all of which have evolution data; sometimes a continent, or a socioeconomic class, or just the whole world\n",
    "        'date': str,\n",
    "        'total_deaths_per_million': float,\n",
    "        'new_deaths_per_million': float,\n",
    "        'new_deaths_smoothed_per_million': float,\n",
    "        'reproduction_rate': float, # the R value of the virus\n",
    "        'hosp_patients': 'Int64', \n",
    "        'hosp_patients_per_million': float,\n",
    "        'total_tests': 'Int64', \n",
    "        'new_tests': 'Int64', \n",
    "        'total_tests_per_thousand': float,\n",
    "        'new_tests_per_thousand': float, \n",
    "        'new_tests_smoothed': 'Int64',\n",
    "        'new_tests_smoothed_per_thousand': float, \n",
    "        'positive_rate': float, \n",
    "        'tests_per_case': float,\n",
    "        'tests_units': str, \n",
    "        'total_vaccinations': 'Int64', \n",
    "        'people_vaccinated': 'Int64',\n",
    "        'people_fully_vaccinated': 'Int64', \n",
    "        'total_boosters': 'Int64', \n",
    "        'new_vaccinations': 'Int64',\n",
    "        'new_vaccinations_smoothed': 'Int64', \n",
    "        'total_vaccinations_per_hundred': float,\n",
    "        'people_vaccinated_per_hundred': float, \n",
    "        'people_fully_vaccinated_per_hundred': float,\n",
    "        'new_vaccinations_smoothed_per_million': 'Int64',\n",
    "        'new_people_vaccinated_smoothed': 'Int64',\n",
    "        'new_people_vaccinated_smoothed_per_hundred': float, \n",
    "        'stringency_index': float, # stringency of lockdown \n",
    "        'population_density': float, \n",
    "        'median_age': float, \n",
    "        'aged_65_older': float, \n",
    "        'aged_70_older': float,\n",
    "        'gdp_per_capita': float, \n",
    "        'extreme_poverty': float, \n",
    "        'cardiovasc_death_rate': float,\n",
    "        'diabetes_prevalence': float,  \n",
    "        'female_smokers': float, \n",
    "        'male_smokers': float,\n",
    "        'handwashing_facilities': float, \n",
    "        'hospital_beds_per_thousand': float,\n",
    "        'life_expectancy': float, \n",
    "        'human_development_index': float, \n",
    "        'population': 'Int64',\n",
    "        'excess_mortality_cumulative_absolute': float, \n",
    "        'excess_mortality_cumulative': float,\n",
    "        'excess_mortality': float, \n",
    "        'excess_mortality_cumulative_per_million': float\n",
    "    },\n",
    "    parse_dates=['date']\n",
    ")"
   ]
  },
  {
   "cell_type": "code",
   "execution_count": null,
   "id": "2b84c3c9-7f8e-442f-8750-0e80b50b88e7",
   "metadata": {},
   "outputs": [],
   "source": [
    "schema = pa.DataFrameSchema({\n",
    "    'continent': pa.Column(str, checks=pa.Check.str_matches(r'^[A-Za-z, ]+$'), nullable=True), # Continent the location is on. May be null if location is itsself a continent, or a socioeconomic class, or just the whole world\n",
    "    'location': pa.Column(str, checks=pa.Check.str_matches(r\"^[A-Za-z,\\-\\(\\) ']+$\")), # Mostly countries, not all of which have evolution data; sometimes a continent, or a socioeconomic class, or just the whole world\n",
    "    'date': pa.Column('datetime64[ns]'),\n",
    "    'total_deaths_per_million': pa.Column(float, checks=pa.Check.ge(0), nullable=True),\n",
    "    'new_deaths_per_million': pa.Column(float, checks=pa.Check.ge(0), nullable=True),\n",
    "    'new_deaths_smoothed_per_million': pa.Column(float, checks=pa.Check.ge(0), nullable=True),\n",
    "    \n",
    "    # We're assuming that COVID's Re is less severe than measles' R0 by setting reproduction_rate to max 20.\n",
    "    # Something weird here is that some values for reproduction rate are less than 0, as far as  -0.08!?\n",
    "    # This is due to limitations of the R estimation method around 0 I suspect\n",
    "    'reproduction_rate': pa.Column(float, checks=[pa.Check.gt(-0.1), pa.Check.lt(20)], nullable=True), \n",
    "    'hosp_patients': pa.Column('Int64', checks=pa.Check.ge(0), nullable=True),\n",
    "    'hosp_patients_per_million': pa.Column(float, checks=pa.Check.ge(0), nullable=True),\n",
    "    'total_tests': pa.Column('Int64', checks=pa.Check.ge(0), nullable=True), \n",
    "    'new_tests': pa.Column('Int64', checks=pa.Check.ge(0), nullable=True), \n",
    "    'total_tests_per_thousand': pa.Column(float, checks=pa.Check.ge(0), nullable=True),\n",
    "    'new_tests_per_thousand': pa.Column(float, checks=pa.Check.ge(0), nullable=True), \n",
    "    'new_tests_smoothed': pa.Column('Int64', checks=pa.Check.ge(0), nullable=True),\n",
    "    'new_tests_smoothed_per_thousand': pa.Column(float, checks=pa.Check.ge(0), nullable=True), \n",
    "    'positive_rate': pa.Column(float, checks=[pa.Check.ge(0), pa.Check.le(1)], nullable=True), \n",
    "    'tests_per_case': pa.Column(float, checks=pa.Check.ge(0), nullable=True), #???\n",
    "    'tests_units': pa.Column(str, nullable=True), \n",
    "    'total_vaccinations': pa.Column('Int64', checks=pa.Check.ge(0), nullable=True), \n",
    "    'people_vaccinated': pa.Column('Int64', checks=pa.Check.ge(0), nullable=True),\n",
    "    'people_fully_vaccinated': pa.Column('Int64', checks=pa.Check.ge(0), nullable=True), \n",
    "    'total_boosters': pa.Column('Int64', checks=pa.Check.ge(0), nullable=True), \n",
    "    'new_vaccinations': pa.Column('Int64', checks=pa.Check.ge(0), nullable=True),\n",
    "    'new_vaccinations_smoothed': pa.Column('Int64', checks=pa.Check.ge(0), nullable=True), \n",
    "    'total_vaccinations_per_hundred': pa.Column(float, checks=pa.Check.ge(0), nullable=True),\n",
    "    'people_vaccinated_per_hundred': pa.Column(float, checks=pa.Check.ge(0), nullable=True), \n",
    "    'people_fully_vaccinated_per_hundred': pa.Column(float, checks=pa.Check.ge(0), nullable=True),\n",
    "    'new_vaccinations_smoothed_per_million': pa.Column('Int64', checks=pa.Check.ge(0), nullable=True),\n",
    "    'new_people_vaccinated_smoothed': pa.Column('Int64', checks=pa.Check.ge(0), nullable=True),\n",
    "    'new_people_vaccinated_smoothed_per_hundred': pa.Column(float, checks=pa.Check.ge(0), nullable=True), \n",
    "    'stringency_index': pa.Column(float, checks=[pa.Check.ge(0), pa.Check.le(100)], nullable=True), # stringency of lockdown \n",
    "    'population_density': pa.Column(float, checks=[pa.Check.ge(0), pa.Check.le(21000)], nullable=True), # Population Density per sq Kilometer; Highest recorded is just shy of 21000.\n",
    "    'median_age': pa.Column(float, checks=[pa.Check.ge(0), pa.Check.le(120)], nullable=True), \n",
    "    'aged_65_older': pa.Column(float, checks=[pa.Check.ge(0), pa.Check.le(100)], nullable=True), # Percentage of population aged 65 or over\n",
    "    'aged_70_older': pa.Column(float, checks=[pa.Check.ge(0), pa.Check.le(100)], nullable=True), # Percentage of population aged 65 or over\n",
    "    'gdp_per_capita': pa.Column(float, checks=pa.Check.ge(0), nullable=True), # Gross Domestic Product per Capita; not sure which source, or even which currency. Should be USD, but numbers suggest GBP.\n",
    "    'extreme_poverty': pa.Column(float, checks=[pa.Check.ge(0), pa.Check.le(100)], nullable=True), # Percentage of population living in extreme poverty.  Seems to be by WorldBank Definition, but not sure.\n",
    "    'cardiovasc_death_rate': pa.Column(float, checks=[pa.Check.ge(0), pa.Check.le(100000)], nullable=True), # Probably Cardiovascular deaths per 100,000 judging by comparison to know external stats\n",
    "    'diabetes_prevalence': pa.Column(float, checks=[pa.Check.ge(0), pa.Check.le(100)], nullable=True), # Prevalence of diabetes; not sure what scale, as UK is approx 4.28 here, and has about 4.8 million people with diabetes.\n",
    "    'female_smokers': pa.Column(float, checks=[pa.Check.ge(0), pa.Check.le(100)], nullable=True), # Based on world stats this is the percentage of women who smoke.  Numbers for UK don't match official stats though.\n",
    "    'male_smokers': pa.Column(float, checks=[pa.Check.ge(0), pa.Check.le(100)], nullable=True), # Based on world stats this is the percentage of men who smoke.  Numbers for UK don't match official stats though.\n",
    "    'handwashing_facilities': pa.Column(float, checks=[pa.Check.ge(0), pa.Check.le(100)], nullable=True), # Percentage of people with access to hand washing facilities\n",
    "    'hospital_beds_per_thousand': pa.Column(float, checks=[pa.Check.ge(0), pa.Check.le(1000)], nullable=True),\n",
    "    'life_expectancy': pa.Column(float, checks=[pa.Check.ge(0), pa.Check.le(150)], nullable=True), \n",
    "    'human_development_index': pa.Column(float, checks=[pa.Check.ge(0), pa.Check.le(1)], nullable=True), \n",
    "    'population': pa.Column('Int64', checks=[pa.Check.ge(0), pa.Check.le(pow(10,10))], nullable=True), # Lets upper bound human population at 10 billion. That should be good through till at least 2050.\n",
    "    'excess_mortality_cumulative_absolute': pa.Column(float, nullable=True), \n",
    "    'excess_mortality_cumulative': pa.Column(float, nullable=True),\n",
    "    'excess_mortality': pa.Column(float, nullable=True), \n",
    "    'excess_mortality_cumulative_per_million': pa.Column(float, nullable=True)\n",
    "})"
   ]
  },
  {
   "cell_type": "code",
   "execution_count": null,
   "id": "4486a648-e004-4fb2-a18d-f8dfb36dafdd",
   "metadata": {},
   "outputs": [],
   "source": [
    "# This takes a while.\n",
    "schema.validate(countries_df)"
   ]
  },
  {
   "cell_type": "code",
   "execution_count": null,
   "id": "d1f109c1-d878-4408-83cd-9e423cde44f3",
   "metadata": {
    "tags": []
   },
   "outputs": [],
   "source": [
    "# If the output path does not yet exist, create it\n",
    "if not os.path.exists(os.path.dirname(cleaned_country_filename)):\n",
    "    os.makedirs(os.path.dirname(cleaned_country_filename))\n",
    "    \n",
    "countries_df.to_parquet(cleaned_country_filename)"
   ]
  }
 ],
 "metadata": {
  "kernelspec": {
   "display_name": "Python 3 (ipykernel)",
   "language": "python",
   "name": "python3"
  },
  "language_info": {
   "codemirror_mode": {
    "name": "ipython",
    "version": 3
   },
   "file_extension": ".py",
   "mimetype": "text/x-python",
   "name": "python",
   "nbconvert_exporter": "python",
   "pygments_lexer": "ipython3",
   "version": "3.10.9"
  }
 },
 "nbformat": 4,
 "nbformat_minor": 5
}
