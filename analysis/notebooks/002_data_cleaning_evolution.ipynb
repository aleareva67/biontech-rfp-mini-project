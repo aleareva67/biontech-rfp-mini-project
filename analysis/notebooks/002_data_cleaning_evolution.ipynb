{
 "cells": [
  {
   "cell_type": "markdown",
   "id": "ec10682b-15b1-4240-81ac-56c663201695",
   "metadata": {},
   "source": [
    "# Data Cleaning & Validation - Evolution Data\n",
    "\n",
    "**Author:** Alan Meeson <alan.meeson@capgemini.com>\n",
    "\n",
    "**Date:** 2023-02-06\n",
    "\n",
    "This notebook captures assumptions about the data, and validation of those assumptions.\n",
    "This can serve as a template for the Cleaning and Validation stage of the ETL process for the evolution data.\n",
    "\n",
    "Key findings are:\n",
    "- The rows for South Africa are corrupted.  The `location` entry is missing the closing ' \" '\n",
    "- There are some `perc_sequences` entries which are below 0 by -0.01.  Typically for variants 'other' and 'non_who'\n",
    "- There are some `perc_sequences` entries which are off by 0.01 in addition to the ones noted above.\n",
    "- There is some duplication in counts between the variants 'other' and 'non_who'; if we include both in the sum, the totals for a location/day don't add up correctly."
   ]
  },
  {
   "cell_type": "code",
   "execution_count": 9,
   "id": "86a3ba66-9543-4638-ba27-f445584e7204",
   "metadata": {
    "tags": []
   },
   "outputs": [],
   "source": [
    "import os\n",
    "import re\n",
    "import csv\n",
    "import datetime\n",
    "import pandas as pd\n",
    "import matplotlib.pyplot as plt"
   ]
  },
  {
   "cell_type": "code",
   "execution_count": 42,
   "id": "a178f596-c82b-4676-9bb8-d84c054b0c6e",
   "metadata": {
    "tags": []
   },
   "outputs": [],
   "source": [
    "data_dir = '../data'\n",
    "evolution_filename = os.path.join(data_dir, 'raw', 'Data1_Covid Variants evolution.csv')\n",
    "fixed_evolution_filename = os.path.join(data_dir, 'fixed', 'Data1_Covid Variants evolution.csv')\n",
    "cleaned_evolution_filename = os.path.join(data_dir, 'cleaned', 'covid_variants_evolution.parquet')"
   ]
  },
  {
   "cell_type": "markdown",
   "id": "46c79590-bdce-427b-8390-0c2a00d0e3d6",
   "metadata": {},
   "source": [
    "## Explore the Evolution Data"
   ]
  },
  {
   "cell_type": "code",
   "execution_count": 3,
   "id": "02c561c7-3fec-44c5-ad7a-b4dff7ece8b0",
   "metadata": {
    "tags": []
   },
   "outputs": [],
   "source": [
    "evolution_df = pd.read_csv(evolution_filename)"
   ]
  },
  {
   "cell_type": "code",
   "execution_count": 4,
   "id": "a660557e-8751-421e-b75a-f4443dfd7ad4",
   "metadata": {
    "tags": []
   },
   "outputs": [
    {
     "data": {
      "text/html": [
       "<div>\n",
       "<style scoped>\n",
       "    .dataframe tbody tr th:only-of-type {\n",
       "        vertical-align: middle;\n",
       "    }\n",
       "\n",
       "    .dataframe tbody tr th {\n",
       "        vertical-align: top;\n",
       "    }\n",
       "\n",
       "    .dataframe thead th {\n",
       "        text-align: right;\n",
       "    }\n",
       "</style>\n",
       "<table border=\"1\" class=\"dataframe\">\n",
       "  <thead>\n",
       "    <tr style=\"text-align: right;\">\n",
       "      <th></th>\n",
       "      <th>location</th>\n",
       "      <th>date</th>\n",
       "      <th>variant</th>\n",
       "      <th>num_sequences</th>\n",
       "      <th>perc_sequences</th>\n",
       "      <th>num_sequences_total</th>\n",
       "    </tr>\n",
       "  </thead>\n",
       "  <tbody>\n",
       "    <tr>\n",
       "      <th>0</th>\n",
       "      <td>Angola</td>\n",
       "      <td>06.07.2020</td>\n",
       "      <td>Alpha</td>\n",
       "      <td>0.0</td>\n",
       "      <td>0.0</td>\n",
       "      <td>3.0</td>\n",
       "    </tr>\n",
       "    <tr>\n",
       "      <th>1</th>\n",
       "      <td>Angola</td>\n",
       "      <td>06.07.2020</td>\n",
       "      <td>B.1.1.277</td>\n",
       "      <td>0.0</td>\n",
       "      <td>0.0</td>\n",
       "      <td>3.0</td>\n",
       "    </tr>\n",
       "    <tr>\n",
       "      <th>2</th>\n",
       "      <td>Angola</td>\n",
       "      <td>06.07.2020</td>\n",
       "      <td>B.1.1.302</td>\n",
       "      <td>0.0</td>\n",
       "      <td>0.0</td>\n",
       "      <td>3.0</td>\n",
       "    </tr>\n",
       "    <tr>\n",
       "      <th>3</th>\n",
       "      <td>Angola</td>\n",
       "      <td>06.07.2020</td>\n",
       "      <td>B.1.1.519</td>\n",
       "      <td>0.0</td>\n",
       "      <td>0.0</td>\n",
       "      <td>3.0</td>\n",
       "    </tr>\n",
       "    <tr>\n",
       "      <th>4</th>\n",
       "      <td>Angola</td>\n",
       "      <td>06.07.2020</td>\n",
       "      <td>B.1.160</td>\n",
       "      <td>0.0</td>\n",
       "      <td>0.0</td>\n",
       "      <td>3.0</td>\n",
       "    </tr>\n",
       "  </tbody>\n",
       "</table>\n",
       "</div>"
      ],
      "text/plain": [
       "  location        date    variant  num_sequences  perc_sequences  \\\n",
       "0   Angola  06.07.2020      Alpha            0.0             0.0   \n",
       "1   Angola  06.07.2020  B.1.1.277            0.0             0.0   \n",
       "2   Angola  06.07.2020  B.1.1.302            0.0             0.0   \n",
       "3   Angola  06.07.2020  B.1.1.519            0.0             0.0   \n",
       "4   Angola  06.07.2020    B.1.160            0.0             0.0   \n",
       "\n",
       "   num_sequences_total  \n",
       "0                  3.0  \n",
       "1                  3.0  \n",
       "2                  3.0  \n",
       "3                  3.0  \n",
       "4                  3.0  "
      ]
     },
     "execution_count": 4,
     "metadata": {},
     "output_type": "execute_result"
    }
   ],
   "source": [
    "evolution_df.head()"
   ]
  },
  {
   "cell_type": "markdown",
   "id": "29077a2d-ea6a-4b2b-b7a9-9865c56d207e",
   "metadata": {},
   "source": [
    "### Validate formats"
   ]
  },
  {
   "cell_type": "markdown",
   "id": "1006ba62-7398-4643-8600-b330b44c5d13",
   "metadata": {
    "tags": []
   },
   "source": [
    "#### Location\n",
    "Assume that locations are purely letters with optional brackets and start with a captial letter."
   ]
  },
  {
   "cell_type": "code",
   "execution_count": 5,
   "id": "e39013d2-7157-43eb-9d85-5760bf7f34f5",
   "metadata": {
    "tags": []
   },
   "outputs": [
    {
     "data": {
      "text/plain": [
       "False"
      ]
     },
     "execution_count": 5,
     "metadata": {},
     "output_type": "execute_result"
    }
   ],
   "source": [
    "location_pattern = re.compile('^[A-Z][A-Za-z\\(\\) ]+$')\n",
    "all(evolution_df['location'].str.fullmatch(location_pattern))"
   ]
  },
  {
   "cell_type": "code",
   "execution_count": 6,
   "id": "5a7d6126-50f7-4dce-9fdc-867578e46639",
   "metadata": {
    "tags": []
   },
   "outputs": [
    {
     "data": {
      "text/html": [
       "<div>\n",
       "<style scoped>\n",
       "    .dataframe tbody tr th:only-of-type {\n",
       "        vertical-align: middle;\n",
       "    }\n",
       "\n",
       "    .dataframe tbody tr th {\n",
       "        vertical-align: top;\n",
       "    }\n",
       "\n",
       "    .dataframe thead th {\n",
       "        text-align: right;\n",
       "    }\n",
       "</style>\n",
       "<table border=\"1\" class=\"dataframe\">\n",
       "  <thead>\n",
       "    <tr style=\"text-align: right;\">\n",
       "      <th></th>\n",
       "      <th>location</th>\n",
       "      <th>date</th>\n",
       "      <th>variant</th>\n",
       "      <th>num_sequences</th>\n",
       "      <th>perc_sequences</th>\n",
       "      <th>num_sequences_total</th>\n",
       "    </tr>\n",
       "  </thead>\n",
       "  <tbody>\n",
       "    <tr>\n",
       "      <th>83328</th>\n",
       "      <td>South Africa,11.05.2020\"</td>\n",
       "      <td>Alpha</td>\n",
       "      <td>0</td>\n",
       "      <td>0.00</td>\n",
       "      <td>135.0</td>\n",
       "      <td>NaN</td>\n",
       "    </tr>\n",
       "    <tr>\n",
       "      <th>83329</th>\n",
       "      <td>South Africa,11.05.2020\"</td>\n",
       "      <td>B.1.1.277</td>\n",
       "      <td>0</td>\n",
       "      <td>0.00</td>\n",
       "      <td>135.0</td>\n",
       "      <td>NaN</td>\n",
       "    </tr>\n",
       "    <tr>\n",
       "      <th>83330</th>\n",
       "      <td>South Africa,11.05.2020\"</td>\n",
       "      <td>B.1.1.302</td>\n",
       "      <td>0</td>\n",
       "      <td>0.00</td>\n",
       "      <td>135.0</td>\n",
       "      <td>NaN</td>\n",
       "    </tr>\n",
       "    <tr>\n",
       "      <th>83331</th>\n",
       "      <td>South Africa,11.05.2020\"</td>\n",
       "      <td>B.1.1.519</td>\n",
       "      <td>0</td>\n",
       "      <td>0.00</td>\n",
       "      <td>135.0</td>\n",
       "      <td>NaN</td>\n",
       "    </tr>\n",
       "    <tr>\n",
       "      <th>83332</th>\n",
       "      <td>South Africa,11.05.2020\"</td>\n",
       "      <td>B.1.160</td>\n",
       "      <td>0</td>\n",
       "      <td>0.00</td>\n",
       "      <td>135.0</td>\n",
       "      <td>NaN</td>\n",
       "    </tr>\n",
       "    <tr>\n",
       "      <th>...</th>\n",
       "      <td>...</td>\n",
       "      <td>...</td>\n",
       "      <td>...</td>\n",
       "      <td>...</td>\n",
       "      <td>...</td>\n",
       "      <td>...</td>\n",
       "    </tr>\n",
       "    <tr>\n",
       "      <th>84379</th>\n",
       "      <td>South Africa,27.12.2021\"</td>\n",
       "      <td>Omicron</td>\n",
       "      <td>61</td>\n",
       "      <td>93.85</td>\n",
       "      <td>65.0</td>\n",
       "      <td>NaN</td>\n",
       "    </tr>\n",
       "    <tr>\n",
       "      <th>84380</th>\n",
       "      <td>South Africa,27.12.2021\"</td>\n",
       "      <td>S:677H.Robin1</td>\n",
       "      <td>0</td>\n",
       "      <td>0.00</td>\n",
       "      <td>65.0</td>\n",
       "      <td>NaN</td>\n",
       "    </tr>\n",
       "    <tr>\n",
       "      <th>84381</th>\n",
       "      <td>South Africa,27.12.2021\"</td>\n",
       "      <td>S:677P.Pelican</td>\n",
       "      <td>0</td>\n",
       "      <td>0.00</td>\n",
       "      <td>65.0</td>\n",
       "      <td>NaN</td>\n",
       "    </tr>\n",
       "    <tr>\n",
       "      <th>84382</th>\n",
       "      <td>South Africa,27.12.2021\"</td>\n",
       "      <td>others</td>\n",
       "      <td>4</td>\n",
       "      <td>6.15</td>\n",
       "      <td>65.0</td>\n",
       "      <td>NaN</td>\n",
       "    </tr>\n",
       "    <tr>\n",
       "      <th>84383</th>\n",
       "      <td>South Africa,27.12.2021\"</td>\n",
       "      <td>non_who</td>\n",
       "      <td>4</td>\n",
       "      <td>6.15</td>\n",
       "      <td>65.0</td>\n",
       "      <td>NaN</td>\n",
       "    </tr>\n",
       "  </tbody>\n",
       "</table>\n",
       "<p>1056 rows × 6 columns</p>\n",
       "</div>"
      ],
      "text/plain": [
       "                       location            date variant  num_sequences  \\\n",
       "83328  South Africa,11.05.2020\"           Alpha       0           0.00   \n",
       "83329  South Africa,11.05.2020\"       B.1.1.277       0           0.00   \n",
       "83330  South Africa,11.05.2020\"       B.1.1.302       0           0.00   \n",
       "83331  South Africa,11.05.2020\"       B.1.1.519       0           0.00   \n",
       "83332  South Africa,11.05.2020\"         B.1.160       0           0.00   \n",
       "...                         ...             ...     ...            ...   \n",
       "84379  South Africa,27.12.2021\"         Omicron      61          93.85   \n",
       "84380  South Africa,27.12.2021\"   S:677H.Robin1       0           0.00   \n",
       "84381  South Africa,27.12.2021\"  S:677P.Pelican       0           0.00   \n",
       "84382  South Africa,27.12.2021\"          others       4           6.15   \n",
       "84383  South Africa,27.12.2021\"         non_who       4           6.15   \n",
       "\n",
       "       perc_sequences  num_sequences_total  \n",
       "83328           135.0                  NaN  \n",
       "83329           135.0                  NaN  \n",
       "83330           135.0                  NaN  \n",
       "83331           135.0                  NaN  \n",
       "83332           135.0                  NaN  \n",
       "...               ...                  ...  \n",
       "84379            65.0                  NaN  \n",
       "84380            65.0                  NaN  \n",
       "84381            65.0                  NaN  \n",
       "84382            65.0                  NaN  \n",
       "84383            65.0                  NaN  \n",
       "\n",
       "[1056 rows x 6 columns]"
      ]
     },
     "execution_count": 6,
     "metadata": {},
     "output_type": "execute_result"
    }
   ],
   "source": [
    "evolution_df[~evolution_df['location'].str.fullmatch(location_pattern)]"
   ]
  },
  {
   "cell_type": "markdown",
   "id": "5e081667-6cfa-45a4-b5b1-f33ce9ff5a15",
   "metadata": {},
   "source": [
    "##### Correct the row formatting issue\n",
    "\n",
    "We correct this here, rather than with the other cleaning, as if we do not then it will throw off all those tests too"
   ]
  },
  {
   "cell_type": "code",
   "execution_count": 11,
   "id": "eea062c6-a06f-40f9-aa07-6a50ade47e07",
   "metadata": {
    "tags": []
   },
   "outputs": [],
   "source": [
    "expected_columns = ['location', 'date', 'variant', 'num_sequences', 'perc_sequences', 'num_sequences_total']\n",
    "expected_num_columns = len(expected_columns)\n",
    "\n",
    "# If the output path does not yet exist, create it\n",
    "if not os.path.exists(os.path.dirname(fixed_evolution_filename)):\n",
    "    os.makedirs(os.path.dirname(fixed_evolution_filename))\n",
    "\n",
    "# Scan each line in the csv file for quote errors resulting in too few columns, fix if possible\n",
    "with open(fixed_evolution_filename, 'w', newline='') as outfp:\n",
    "    writer = csv.writer(outfp, quoting=csv.QUOTE_ALL)\n",
    "    \n",
    "    with open(evolution_filename, 'r', newline='') as fp:\n",
    "        reader = csv.reader(fp)\n",
    "        \n",
    "        for line in reader:\n",
    "            # File is known to have no commas in actual data, so if any are present this is an error.            \n",
    "            # Particularly if the line has fewer than the expected number of rows            \n",
    "            if (len(line) < expected_num_columns) and any([',' in element for element in line]):\n",
    "                new_line = []\n",
    "                \n",
    "                for element in line:\n",
    "                    new_line.extend(element.split(','))\n",
    "        \n",
    "                new_line = [element.removesuffix('\"') for element in new_line]\n",
    "                \n",
    "                if len(new_line) == expected_num_columns:\n",
    "                    writer.writerow(new_line)\n",
    "                else:\n",
    "                    print(\"Could not correct bad line: %s\" % line)\n",
    "            else:\n",
    "                writer.writerow(line)"
   ]
  },
  {
   "cell_type": "code",
   "execution_count": 12,
   "id": "e471aed6-44b0-4fb0-a2ee-3588c0632ce0",
   "metadata": {
    "tags": []
   },
   "outputs": [
    {
     "data": {
      "text/plain": [
       "True"
      ]
     },
     "execution_count": 12,
     "metadata": {},
     "output_type": "execute_result"
    }
   ],
   "source": [
    "# Read the corrected data, and check the fix\n",
    "evolution_df = pd.read_csv(fixed_evolution_filename)\n",
    "\n",
    "location_pattern = re.compile('^[A-Z][A-Za-z\\(\\) ]+$')\n",
    "all(evolution_df['location'].str.fullmatch(location_pattern))"
   ]
  },
  {
   "cell_type": "markdown",
   "id": "f8903d69-f8d0-499e-a432-289393bdb3a6",
   "metadata": {
    "tags": []
   },
   "source": [
    "#### Date\n",
    "\n",
    "Assume dates are always in the DD.MM.YYYY format"
   ]
  },
  {
   "cell_type": "code",
   "execution_count": 13,
   "id": "d152210e-921d-4c10-9bce-dae5a520d350",
   "metadata": {
    "tags": []
   },
   "outputs": [
    {
     "data": {
      "text/plain": [
       "True"
      ]
     },
     "execution_count": 13,
     "metadata": {},
     "output_type": "execute_result"
    }
   ],
   "source": [
    "date_pattern = re.compile('^[0-3][0-9]\\.[01][0-9]\\.[12][0-9]{3}$')\n",
    "all(evolution_df['date'].str.fullmatch(date_pattern))"
   ]
  },
  {
   "cell_type": "markdown",
   "id": "9973ac92-3f62-46a6-a1e0-954729fd7d5c",
   "metadata": {
    "tags": []
   },
   "source": [
    "#### Variant\n",
    "\n",
    "Assume that variants start with something other than a number."
   ]
  },
  {
   "cell_type": "code",
   "execution_count": 15,
   "id": "b3427d90-bca3-4146-824a-cb382c896837",
   "metadata": {
    "tags": []
   },
   "outputs": [
    {
     "data": {
      "text/plain": [
       "True"
      ]
     },
     "execution_count": 15,
     "metadata": {},
     "output_type": "execute_result"
    }
   ],
   "source": [
    "variant_pattern = re.compile('^[A-Za-z\\.:_][A-Za-z0-9\\.:_]+$')\n",
    "all(evolution_df['variant'].str.fullmatch(variant_pattern))"
   ]
  },
  {
   "cell_type": "code",
   "execution_count": 16,
   "id": "4a6f2b83-74af-4bc3-ae92-855ebfa9f7b3",
   "metadata": {
    "tags": []
   },
   "outputs": [
    {
     "data": {
      "text/plain": [
       "array(['Alpha', 'B.1.1.277', 'B.1.1.302', 'B.1.1.519', 'B.1.160',\n",
       "       'B.1.177', 'B.1.221', 'B.1.258', 'B.1.367', 'B.1.620', 'Beta',\n",
       "       'Delta', 'Epsilon', 'Eta', 'Gamma', 'Iota', 'Kappa', 'Lambda',\n",
       "       'Mu', 'Omicron', 'S:677H.Robin1', 'S:677P.Pelican', 'others',\n",
       "       'non_who'], dtype=object)"
      ]
     },
     "execution_count": 16,
     "metadata": {},
     "output_type": "execute_result"
    }
   ],
   "source": [
    "evolution_df['variant'].unique()"
   ]
  },
  {
   "cell_type": "markdown",
   "id": "6ecf45e1-d2c9-4a7e-94ac-1a1375b6003d",
   "metadata": {
    "tags": []
   },
   "source": [
    "#### The numbers"
   ]
  },
  {
   "cell_type": "markdown",
   "id": "3e29e090-03f6-42dc-826f-072858f78c3c",
   "metadata": {},
   "source": [
    "##### Num_Sequences\n",
    "\n",
    "Should be a number greater than 0"
   ]
  },
  {
   "cell_type": "code",
   "execution_count": 17,
   "id": "09afd8d6-60bd-4d83-afae-b3c8f09607db",
   "metadata": {
    "tags": []
   },
   "outputs": [
    {
     "data": {
      "text/plain": [
       "True"
      ]
     },
     "execution_count": 17,
     "metadata": {},
     "output_type": "execute_result"
    }
   ],
   "source": [
    "all(~evolution_df['num_sequences'].isna() & (evolution_df['num_sequences'] >= 0))"
   ]
  },
  {
   "cell_type": "markdown",
   "id": "c5959f5a-1523-43c6-a860-f3ec181f674a",
   "metadata": {},
   "source": [
    "##### Perc Sequences \n",
    "Should be a number between 0 & 100"
   ]
  },
  {
   "cell_type": "code",
   "execution_count": 18,
   "id": "a6857b28-4e94-414a-991a-2bd3605dbe4f",
   "metadata": {
    "tags": []
   },
   "outputs": [
    {
     "data": {
      "text/plain": [
       "False"
      ]
     },
     "execution_count": 18,
     "metadata": {},
     "output_type": "execute_result"
    }
   ],
   "source": [
    "is_perc_sequences_valid = ~evolution_df['perc_sequences'].isna() & (evolution_df['perc_sequences'] >= 0) & (evolution_df['perc_sequences'] <= 100)\n",
    "all(is_perc_sequences_valid)"
   ]
  },
  {
   "cell_type": "code",
   "execution_count": 19,
   "id": "b6a28e42-3996-4dc5-aade-7d1b5bf0a60a",
   "metadata": {
    "tags": []
   },
   "outputs": [
    {
     "data": {
      "text/html": [
       "<div>\n",
       "<style scoped>\n",
       "    .dataframe tbody tr th:only-of-type {\n",
       "        vertical-align: middle;\n",
       "    }\n",
       "\n",
       "    .dataframe tbody tr th {\n",
       "        vertical-align: top;\n",
       "    }\n",
       "\n",
       "    .dataframe thead th {\n",
       "        text-align: right;\n",
       "    }\n",
       "</style>\n",
       "<table border=\"1\" class=\"dataframe\">\n",
       "  <thead>\n",
       "    <tr style=\"text-align: right;\">\n",
       "      <th></th>\n",
       "      <th>location</th>\n",
       "      <th>date</th>\n",
       "      <th>variant</th>\n",
       "      <th>num_sequences</th>\n",
       "      <th>perc_sequences</th>\n",
       "      <th>num_sequences_total</th>\n",
       "    </tr>\n",
       "  </thead>\n",
       "  <tbody>\n",
       "    <tr>\n",
       "      <th>2062</th>\n",
       "      <td>Aruba</td>\n",
       "      <td>28.06.2021</td>\n",
       "      <td>others</td>\n",
       "      <td>0</td>\n",
       "      <td>-0.01</td>\n",
       "      <td>24</td>\n",
       "    </tr>\n",
       "    <tr>\n",
       "      <th>2063</th>\n",
       "      <td>Aruba</td>\n",
       "      <td>28.06.2021</td>\n",
       "      <td>non_who</td>\n",
       "      <td>0</td>\n",
       "      <td>-0.01</td>\n",
       "      <td>24</td>\n",
       "    </tr>\n",
       "    <tr>\n",
       "      <th>10894</th>\n",
       "      <td>Brazil</td>\n",
       "      <td>13.12.2021</td>\n",
       "      <td>others</td>\n",
       "      <td>0</td>\n",
       "      <td>-0.01</td>\n",
       "      <td>1332</td>\n",
       "    </tr>\n",
       "    <tr>\n",
       "      <th>17350</th>\n",
       "      <td>Costa Rica</td>\n",
       "      <td>20.09.2021</td>\n",
       "      <td>others</td>\n",
       "      <td>0</td>\n",
       "      <td>-0.01</td>\n",
       "      <td>92</td>\n",
       "    </tr>\n",
       "    <tr>\n",
       "      <th>17351</th>\n",
       "      <td>Costa Rica</td>\n",
       "      <td>20.09.2021</td>\n",
       "      <td>non_who</td>\n",
       "      <td>0</td>\n",
       "      <td>-0.01</td>\n",
       "      <td>92</td>\n",
       "    </tr>\n",
       "    <tr>\n",
       "      <th>18094</th>\n",
       "      <td>Croatia</td>\n",
       "      <td>09.08.2021</td>\n",
       "      <td>others</td>\n",
       "      <td>0</td>\n",
       "      <td>-0.01</td>\n",
       "      <td>511</td>\n",
       "    </tr>\n",
       "    <tr>\n",
       "      <th>18095</th>\n",
       "      <td>Croatia</td>\n",
       "      <td>09.08.2021</td>\n",
       "      <td>non_who</td>\n",
       "      <td>0</td>\n",
       "      <td>-0.01</td>\n",
       "      <td>511</td>\n",
       "    </tr>\n",
       "    <tr>\n",
       "      <th>31126</th>\n",
       "      <td>Germany</td>\n",
       "      <td>01.11.2021</td>\n",
       "      <td>others</td>\n",
       "      <td>0</td>\n",
       "      <td>-0.01</td>\n",
       "      <td>15674</td>\n",
       "    </tr>\n",
       "    <tr>\n",
       "      <th>48406</th>\n",
       "      <td>Latvia</td>\n",
       "      <td>28.06.2021</td>\n",
       "      <td>others</td>\n",
       "      <td>0</td>\n",
       "      <td>-0.01</td>\n",
       "      <td>71</td>\n",
       "    </tr>\n",
       "    <tr>\n",
       "      <th>48407</th>\n",
       "      <td>Latvia</td>\n",
       "      <td>28.06.2021</td>\n",
       "      <td>non_who</td>\n",
       "      <td>0</td>\n",
       "      <td>-0.01</td>\n",
       "      <td>71</td>\n",
       "    </tr>\n",
       "    <tr>\n",
       "      <th>51478</th>\n",
       "      <td>Luxembourg</td>\n",
       "      <td>09.08.2021</td>\n",
       "      <td>others</td>\n",
       "      <td>0</td>\n",
       "      <td>-0.01</td>\n",
       "      <td>459</td>\n",
       "    </tr>\n",
       "    <tr>\n",
       "      <th>51479</th>\n",
       "      <td>Luxembourg</td>\n",
       "      <td>09.08.2021</td>\n",
       "      <td>non_who</td>\n",
       "      <td>0</td>\n",
       "      <td>-0.01</td>\n",
       "      <td>459</td>\n",
       "    </tr>\n",
       "    <tr>\n",
       "      <th>58726</th>\n",
       "      <td>Montenegro</td>\n",
       "      <td>09.08.2021</td>\n",
       "      <td>others</td>\n",
       "      <td>0</td>\n",
       "      <td>-0.01</td>\n",
       "      <td>72</td>\n",
       "    </tr>\n",
       "    <tr>\n",
       "      <th>58727</th>\n",
       "      <td>Montenegro</td>\n",
       "      <td>09.08.2021</td>\n",
       "      <td>non_who</td>\n",
       "      <td>0</td>\n",
       "      <td>-0.01</td>\n",
       "      <td>72</td>\n",
       "    </tr>\n",
       "    <tr>\n",
       "      <th>62038</th>\n",
       "      <td>Netherlands</td>\n",
       "      <td>23.08.2021</td>\n",
       "      <td>others</td>\n",
       "      <td>0</td>\n",
       "      <td>-0.01</td>\n",
       "      <td>3129</td>\n",
       "    </tr>\n",
       "    <tr>\n",
       "      <th>62039</th>\n",
       "      <td>Netherlands</td>\n",
       "      <td>23.08.2021</td>\n",
       "      <td>non_who</td>\n",
       "      <td>0</td>\n",
       "      <td>-0.01</td>\n",
       "      <td>3129</td>\n",
       "    </tr>\n",
       "    <tr>\n",
       "      <th>62254</th>\n",
       "      <td>Netherlands</td>\n",
       "      <td>27.12.2021</td>\n",
       "      <td>others</td>\n",
       "      <td>0</td>\n",
       "      <td>-0.01</td>\n",
       "      <td>867</td>\n",
       "    </tr>\n",
       "    <tr>\n",
       "      <th>64894</th>\n",
       "      <td>North Macedonia</td>\n",
       "      <td>22.03.2021</td>\n",
       "      <td>others</td>\n",
       "      <td>0</td>\n",
       "      <td>-0.01</td>\n",
       "      <td>26</td>\n",
       "    </tr>\n",
       "    <tr>\n",
       "      <th>70726</th>\n",
       "      <td>Peru</td>\n",
       "      <td>01.11.2021</td>\n",
       "      <td>others</td>\n",
       "      <td>0</td>\n",
       "      <td>-0.01</td>\n",
       "      <td>721</td>\n",
       "    </tr>\n",
       "    <tr>\n",
       "      <th>70727</th>\n",
       "      <td>Peru</td>\n",
       "      <td>01.11.2021</td>\n",
       "      <td>non_who</td>\n",
       "      <td>0</td>\n",
       "      <td>-0.01</td>\n",
       "      <td>721</td>\n",
       "    </tr>\n",
       "    <tr>\n",
       "      <th>70798</th>\n",
       "      <td>Peru</td>\n",
       "      <td>13.12.2021</td>\n",
       "      <td>others</td>\n",
       "      <td>0</td>\n",
       "      <td>-0.01</td>\n",
       "      <td>65</td>\n",
       "    </tr>\n",
       "    <tr>\n",
       "      <th>70799</th>\n",
       "      <td>Peru</td>\n",
       "      <td>13.12.2021</td>\n",
       "      <td>non_who</td>\n",
       "      <td>0</td>\n",
       "      <td>-0.01</td>\n",
       "      <td>65</td>\n",
       "    </tr>\n",
       "    <tr>\n",
       "      <th>81166</th>\n",
       "      <td>Sint Maarten (Dutch part)</td>\n",
       "      <td>20.09.2021</td>\n",
       "      <td>others</td>\n",
       "      <td>0</td>\n",
       "      <td>-0.01</td>\n",
       "      <td>148</td>\n",
       "    </tr>\n",
       "    <tr>\n",
       "      <th>81167</th>\n",
       "      <td>Sint Maarten (Dutch part)</td>\n",
       "      <td>20.09.2021</td>\n",
       "      <td>non_who</td>\n",
       "      <td>0</td>\n",
       "      <td>-0.01</td>\n",
       "      <td>148</td>\n",
       "    </tr>\n",
       "    <tr>\n",
       "      <th>90238</th>\n",
       "      <td>Switzerland</td>\n",
       "      <td>29.11.2021</td>\n",
       "      <td>others</td>\n",
       "      <td>0</td>\n",
       "      <td>-0.01</td>\n",
       "      <td>6568</td>\n",
       "    </tr>\n",
       "    <tr>\n",
       "      <th>90239</th>\n",
       "      <td>Switzerland</td>\n",
       "      <td>29.11.2021</td>\n",
       "      <td>non_who</td>\n",
       "      <td>0</td>\n",
       "      <td>-0.01</td>\n",
       "      <td>6568</td>\n",
       "    </tr>\n",
       "  </tbody>\n",
       "</table>\n",
       "</div>"
      ],
      "text/plain": [
       "                        location        date  variant  num_sequences  \\\n",
       "2062                       Aruba  28.06.2021   others              0   \n",
       "2063                       Aruba  28.06.2021  non_who              0   \n",
       "10894                     Brazil  13.12.2021   others              0   \n",
       "17350                 Costa Rica  20.09.2021   others              0   \n",
       "17351                 Costa Rica  20.09.2021  non_who              0   \n",
       "18094                    Croatia  09.08.2021   others              0   \n",
       "18095                    Croatia  09.08.2021  non_who              0   \n",
       "31126                    Germany  01.11.2021   others              0   \n",
       "48406                     Latvia  28.06.2021   others              0   \n",
       "48407                     Latvia  28.06.2021  non_who              0   \n",
       "51478                 Luxembourg  09.08.2021   others              0   \n",
       "51479                 Luxembourg  09.08.2021  non_who              0   \n",
       "58726                 Montenegro  09.08.2021   others              0   \n",
       "58727                 Montenegro  09.08.2021  non_who              0   \n",
       "62038                Netherlands  23.08.2021   others              0   \n",
       "62039                Netherlands  23.08.2021  non_who              0   \n",
       "62254                Netherlands  27.12.2021   others              0   \n",
       "64894            North Macedonia  22.03.2021   others              0   \n",
       "70726                       Peru  01.11.2021   others              0   \n",
       "70727                       Peru  01.11.2021  non_who              0   \n",
       "70798                       Peru  13.12.2021   others              0   \n",
       "70799                       Peru  13.12.2021  non_who              0   \n",
       "81166  Sint Maarten (Dutch part)  20.09.2021   others              0   \n",
       "81167  Sint Maarten (Dutch part)  20.09.2021  non_who              0   \n",
       "90238                Switzerland  29.11.2021   others              0   \n",
       "90239                Switzerland  29.11.2021  non_who              0   \n",
       "\n",
       "       perc_sequences  num_sequences_total  \n",
       "2062            -0.01                   24  \n",
       "2063            -0.01                   24  \n",
       "10894           -0.01                 1332  \n",
       "17350           -0.01                   92  \n",
       "17351           -0.01                   92  \n",
       "18094           -0.01                  511  \n",
       "18095           -0.01                  511  \n",
       "31126           -0.01                15674  \n",
       "48406           -0.01                   71  \n",
       "48407           -0.01                   71  \n",
       "51478           -0.01                  459  \n",
       "51479           -0.01                  459  \n",
       "58726           -0.01                   72  \n",
       "58727           -0.01                   72  \n",
       "62038           -0.01                 3129  \n",
       "62039           -0.01                 3129  \n",
       "62254           -0.01                  867  \n",
       "64894           -0.01                   26  \n",
       "70726           -0.01                  721  \n",
       "70727           -0.01                  721  \n",
       "70798           -0.01                   65  \n",
       "70799           -0.01                   65  \n",
       "81166           -0.01                  148  \n",
       "81167           -0.01                  148  \n",
       "90238           -0.01                 6568  \n",
       "90239           -0.01                 6568  "
      ]
     },
     "execution_count": 19,
     "metadata": {},
     "output_type": "execute_result"
    }
   ],
   "source": [
    "evolution_df[~is_perc_sequences_valid]"
   ]
  },
  {
   "cell_type": "markdown",
   "id": "fbb8be52-99d6-43bf-bb98-6f48bd332a5c",
   "metadata": {},
   "source": [
    "##### Num Sequences Total\n",
    "\n",
    "Should be a number greater than zero"
   ]
  },
  {
   "cell_type": "code",
   "execution_count": 20,
   "id": "5a8b8680-7b9d-4c1d-b7f3-3eda3c97b9b7",
   "metadata": {
    "tags": []
   },
   "outputs": [
    {
     "data": {
      "text/plain": [
       "True"
      ]
     },
     "execution_count": 20,
     "metadata": {},
     "output_type": "execute_result"
    }
   ],
   "source": [
    "is_num_sequences_total_valid = ~evolution_df['num_sequences_total'].isna() & (evolution_df['num_sequences_total'] >= 0)\n",
    "all(is_num_sequences_total_valid)"
   ]
  },
  {
   "cell_type": "markdown",
   "id": "1697bb9c-e714-45ba-abe9-169deea840c1",
   "metadata": {},
   "source": [
    "##### num_sequences should be less than or equal to num_sequences total"
   ]
  },
  {
   "cell_type": "code",
   "execution_count": 22,
   "id": "ac79a958-b69f-4ead-9f9f-dc6da7b7c29f",
   "metadata": {
    "tags": []
   },
   "outputs": [
    {
     "data": {
      "text/plain": [
       "True"
      ]
     },
     "execution_count": 22,
     "metadata": {},
     "output_type": "execute_result"
    }
   ],
   "source": [
    "is_part_of_the_whole = evolution_df['num_sequences'] <= evolution_df['num_sequences_total']\n",
    "all(is_part_of_the_whole)"
   ]
  },
  {
   "cell_type": "markdown",
   "id": "e17a2784-5ac1-4cd5-aec3-7ca5b18d0215",
   "metadata": {},
   "source": [
    "##### perc_sequences should be approximately equal to 100 * (num_sequences / num_sequences_total)\n",
    "However, several are out by 0.01; so it's probably worth re-calculating these."
   ]
  },
  {
   "cell_type": "code",
   "execution_count": 24,
   "id": "27de30c0-4fe2-40b0-8077-78ff15e4620c",
   "metadata": {
    "tags": []
   },
   "outputs": [
    {
     "data": {
      "text/plain": [
       "False"
      ]
     },
     "execution_count": 24,
     "metadata": {},
     "output_type": "execute_result"
    }
   ],
   "source": [
    "is_the_perc_right = abs(evolution_df['perc_sequences'] - ((evolution_df['num_sequences'] / evolution_df['num_sequences_total']) * 100)) < 0.01\n",
    "all(is_the_perc_right)"
   ]
  },
  {
   "cell_type": "code",
   "execution_count": 25,
   "id": "e3b36a16-83d1-4b46-88e4-2a9f0d025355",
   "metadata": {
    "tags": []
   },
   "outputs": [
    {
     "data": {
      "text/plain": [
       "390"
      ]
     },
     "execution_count": 25,
     "metadata": {},
     "output_type": "execute_result"
    }
   ],
   "source": [
    "sum(~is_the_perc_right)"
   ]
  },
  {
   "cell_type": "code",
   "execution_count": 26,
   "id": "832df6e8-23cb-445f-88c0-0dc320378f71",
   "metadata": {
    "tags": []
   },
   "outputs": [
    {
     "data": {
      "text/html": [
       "<div>\n",
       "<style scoped>\n",
       "    .dataframe tbody tr th:only-of-type {\n",
       "        vertical-align: middle;\n",
       "    }\n",
       "\n",
       "    .dataframe tbody tr th {\n",
       "        vertical-align: top;\n",
       "    }\n",
       "\n",
       "    .dataframe thead th {\n",
       "        text-align: right;\n",
       "    }\n",
       "</style>\n",
       "<table border=\"1\" class=\"dataframe\">\n",
       "  <thead>\n",
       "    <tr style=\"text-align: right;\">\n",
       "      <th></th>\n",
       "      <th>location</th>\n",
       "      <th>date</th>\n",
       "      <th>variant</th>\n",
       "      <th>num_sequences</th>\n",
       "      <th>perc_sequences</th>\n",
       "      <th>num_sequences_total</th>\n",
       "    </tr>\n",
       "  </thead>\n",
       "  <tbody>\n",
       "    <tr>\n",
       "      <th>310</th>\n",
       "      <td>Angola</td>\n",
       "      <td>08.03.2021</td>\n",
       "      <td>others</td>\n",
       "      <td>36</td>\n",
       "      <td>31.87</td>\n",
       "      <td>113</td>\n",
       "    </tr>\n",
       "    <tr>\n",
       "      <th>1198</th>\n",
       "      <td>Argentina</td>\n",
       "      <td>22.02.2021</td>\n",
       "      <td>others</td>\n",
       "      <td>50</td>\n",
       "      <td>87.73</td>\n",
       "      <td>57</td>\n",
       "    </tr>\n",
       "    <tr>\n",
       "      <th>1222</th>\n",
       "      <td>Argentina</td>\n",
       "      <td>08.03.2021</td>\n",
       "      <td>others</td>\n",
       "      <td>44</td>\n",
       "      <td>67.68</td>\n",
       "      <td>65</td>\n",
       "    </tr>\n",
       "    <tr>\n",
       "      <th>1318</th>\n",
       "      <td>Argentina</td>\n",
       "      <td>03.05.2021</td>\n",
       "      <td>others</td>\n",
       "      <td>71</td>\n",
       "      <td>21.05</td>\n",
       "      <td>337</td>\n",
       "    </tr>\n",
       "    <tr>\n",
       "      <th>1319</th>\n",
       "      <td>Argentina</td>\n",
       "      <td>03.05.2021</td>\n",
       "      <td>non_who</td>\n",
       "      <td>78</td>\n",
       "      <td>23.13</td>\n",
       "      <td>337</td>\n",
       "    </tr>\n",
       "    <tr>\n",
       "      <th>...</th>\n",
       "      <td>...</td>\n",
       "      <td>...</td>\n",
       "      <td>...</td>\n",
       "      <td>...</td>\n",
       "      <td>...</td>\n",
       "      <td>...</td>\n",
       "    </tr>\n",
       "    <tr>\n",
       "      <th>97727</th>\n",
       "      <td>United States</td>\n",
       "      <td>01.11.2021</td>\n",
       "      <td>non_who</td>\n",
       "      <td>418</td>\n",
       "      <td>0.41</td>\n",
       "      <td>104883</td>\n",
       "    </tr>\n",
       "    <tr>\n",
       "      <th>97798</th>\n",
       "      <td>United States</td>\n",
       "      <td>13.12.2021</td>\n",
       "      <td>others</td>\n",
       "      <td>202</td>\n",
       "      <td>0.21</td>\n",
       "      <td>102430</td>\n",
       "    </tr>\n",
       "    <tr>\n",
       "      <th>97799</th>\n",
       "      <td>United States</td>\n",
       "      <td>13.12.2021</td>\n",
       "      <td>non_who</td>\n",
       "      <td>202</td>\n",
       "      <td>0.21</td>\n",
       "      <td>102430</td>\n",
       "    </tr>\n",
       "    <tr>\n",
       "      <th>99526</th>\n",
       "      <td>Zambia</td>\n",
       "      <td>14.06.2021</td>\n",
       "      <td>others</td>\n",
       "      <td>0</td>\n",
       "      <td>0.01</td>\n",
       "      <td>94</td>\n",
       "    </tr>\n",
       "    <tr>\n",
       "      <th>99527</th>\n",
       "      <td>Zambia</td>\n",
       "      <td>14.06.2021</td>\n",
       "      <td>non_who</td>\n",
       "      <td>0</td>\n",
       "      <td>0.01</td>\n",
       "      <td>94</td>\n",
       "    </tr>\n",
       "  </tbody>\n",
       "</table>\n",
       "<p>390 rows × 6 columns</p>\n",
       "</div>"
      ],
      "text/plain": [
       "            location        date  variant  num_sequences  perc_sequences  \\\n",
       "310           Angola  08.03.2021   others             36           31.87   \n",
       "1198       Argentina  22.02.2021   others             50           87.73   \n",
       "1222       Argentina  08.03.2021   others             44           67.68   \n",
       "1318       Argentina  03.05.2021   others             71           21.05   \n",
       "1319       Argentina  03.05.2021  non_who             78           23.13   \n",
       "...              ...         ...      ...            ...             ...   \n",
       "97727  United States  01.11.2021  non_who            418            0.41   \n",
       "97798  United States  13.12.2021   others            202            0.21   \n",
       "97799  United States  13.12.2021  non_who            202            0.21   \n",
       "99526         Zambia  14.06.2021   others              0            0.01   \n",
       "99527         Zambia  14.06.2021  non_who              0            0.01   \n",
       "\n",
       "       num_sequences_total  \n",
       "310                    113  \n",
       "1198                    57  \n",
       "1222                    65  \n",
       "1318                   337  \n",
       "1319                   337  \n",
       "...                    ...  \n",
       "97727               104883  \n",
       "97798               102430  \n",
       "97799               102430  \n",
       "99526                   94  \n",
       "99527                   94  \n",
       "\n",
       "[390 rows x 6 columns]"
      ]
     },
     "execution_count": 26,
     "metadata": {},
     "output_type": "execute_result"
    }
   ],
   "source": [
    "evolution_df[~is_the_perc_right]"
   ]
  },
  {
   "cell_type": "markdown",
   "id": "37402bc3-cb41-45c0-9c65-f989e4c93cae",
   "metadata": {},
   "source": [
    "##### sum of num_sequences grouped by date and country should be equal to the num_sequences_total for that group.\n",
    "Which they are, but only if we exclude either \"other\" or \"non_who\", as it seems those categories overlap somehow."
   ]
  },
  {
   "cell_type": "code",
   "execution_count": 27,
   "id": "8884b0a4-eca0-4129-8612-b75aa72a1fdd",
   "metadata": {
    "tags": []
   },
   "outputs": [
    {
     "data": {
      "text/plain": [
       "False"
      ]
     },
     "execution_count": 27,
     "metadata": {},
     "output_type": "execute_result"
    }
   ],
   "source": [
    "sequence_sums = evolution_df[['location', 'date', 'num_sequences']].groupby(['location', 'date']).sum()\n",
    "sequence_totals = evolution_df[['location', 'date', 'num_sequences_total']].groupby(['location', 'date']).first()\n",
    "combined_totals = pd.concat([sequence_sums, sequence_totals], axis=1)\n",
    "does_it_add_up = combined_totals['num_sequences'] == combined_totals['num_sequences_total']\n",
    "all(does_it_add_up)"
   ]
  },
  {
   "cell_type": "code",
   "execution_count": 28,
   "id": "49921815-a255-438a-a96b-139e80f08d3a",
   "metadata": {
    "tags": []
   },
   "outputs": [
    {
     "data": {
      "text/plain": [
       "3213"
      ]
     },
     "execution_count": 28,
     "metadata": {},
     "output_type": "execute_result"
    }
   ],
   "source": [
    "sum(~does_it_add_up)"
   ]
  },
  {
   "cell_type": "code",
   "execution_count": 29,
   "id": "17ec9f94-4b8c-410a-b0c9-093cb85e04f8",
   "metadata": {
    "tags": []
   },
   "outputs": [
    {
     "data": {
      "text/plain": [
       "True"
      ]
     },
     "execution_count": 29,
     "metadata": {},
     "output_type": "execute_result"
    }
   ],
   "source": [
    "sequence_sums = evolution_df.loc[~(evolution_df['variant'] == 'non_who'), ['location', 'date', 'num_sequences']].groupby(['location', 'date']).sum()\n",
    "sequence_totals = evolution_df[['location', 'date', 'num_sequences_total']].groupby(['location', 'date']).first()\n",
    "combined_totals = pd.concat([sequence_sums, sequence_totals], axis=1)\n",
    "does_it_add_up = combined_totals['num_sequences'] == combined_totals['num_sequences_total']\n",
    "all(does_it_add_up)"
   ]
  },
  {
   "cell_type": "markdown",
   "id": "af2c0b68-c2f9-43f6-9536-ccbf85b6cff1",
   "metadata": {},
   "source": [
    "## Perform the data cleaning"
   ]
  },
  {
   "cell_type": "markdown",
   "id": "ed4143ec-7ec1-40da-9fd6-fbc90f68bf0f",
   "metadata": {},
   "source": [
    "### Load a fresh copy of the data set and parse dates"
   ]
  },
  {
   "cell_type": "code",
   "execution_count": 32,
   "id": "1dadcaee-ef37-4d99-8267-75c494cb903e",
   "metadata": {
    "tags": []
   },
   "outputs": [],
   "source": [
    "custom_date_parser = lambda x: datetime.datetime.strptime(x, \"%d.%m.%Y\")\n",
    "evolution_df = pd.read_csv(fixed_evolution_filename, parse_dates=['date'], date_parser=custom_date_parser)"
   ]
  },
  {
   "cell_type": "markdown",
   "id": "4144232f-4413-4321-a9f1-79160d4718eb",
   "metadata": {},
   "source": [
    "### Recalculate the perc_sequences"
   ]
  },
  {
   "cell_type": "code",
   "execution_count": 33,
   "id": "c98c83f3-9553-493e-bf9e-f3c49090a3cc",
   "metadata": {
    "tags": []
   },
   "outputs": [],
   "source": [
    "evolution_df['perc_sequences'] = 100 * evolution_df['num_sequences'] / evolution_df['num_sequences_total']"
   ]
  },
  {
   "cell_type": "markdown",
   "id": "a0e4f4f4-4d70-4acb-bc1a-7110947daa1e",
   "metadata": {},
   "source": [
    "### Re-apply the basic validation checks to see that it is all correct"
   ]
  },
  {
   "cell_type": "code",
   "execution_count": 34,
   "id": "df1e1dac-8239-481c-a8e3-9f5ad30211fe",
   "metadata": {
    "tags": []
   },
   "outputs": [
    {
     "data": {
      "text/plain": [
       "True"
      ]
     },
     "execution_count": 34,
     "metadata": {},
     "output_type": "execute_result"
    }
   ],
   "source": [
    "# Location is a string which starts with a captial letter, and may contain\n",
    "# letters, spaces, brackets, dashes and apostrophes only.\n",
    "location_pattern = re.compile('^[A-Z][A-Za-z\\(\\)\\'\\- ]+$')\n",
    "all(evolution_df['location'].str.fullmatch(location_pattern))"
   ]
  },
  {
   "cell_type": "code",
   "execution_count": 35,
   "id": "4bfe72ec-8972-4f11-afc5-8831beacc11c",
   "metadata": {
    "tags": []
   },
   "outputs": [
    {
     "data": {
      "text/plain": [
       "True"
      ]
     },
     "execution_count": 35,
     "metadata": {},
     "output_type": "execute_result"
    }
   ],
   "source": [
    "# Variant is a string which starts with something other than a number, and may contain\n",
    "# letters, ., :, _ and numbers only.\n",
    "variant_pattern = re.compile('^[A-Za-z\\.:_][A-Za-z0-9\\.:_]+$')\n",
    "all(evolution_df['variant'].str.fullmatch(variant_pattern))"
   ]
  },
  {
   "cell_type": "code",
   "execution_count": 36,
   "id": "b2a75e83-758d-4ec0-96b8-ddbab0e8e7ff",
   "metadata": {
    "tags": []
   },
   "outputs": [
    {
     "data": {
      "text/plain": [
       "True"
      ]
     },
     "execution_count": 36,
     "metadata": {},
     "output_type": "execute_result"
    }
   ],
   "source": [
    "# num_sequences is a number greater than or equal to zero, and is not null\n",
    "all(~evolution_df['num_sequences'].isna() & (evolution_df['num_sequences'] >= 0))"
   ]
  },
  {
   "cell_type": "code",
   "execution_count": 37,
   "id": "dac1e4be-82d0-49aa-b1fe-9c9b5fb4ab2a",
   "metadata": {
    "tags": []
   },
   "outputs": [
    {
     "data": {
      "text/plain": [
       "True"
      ]
     },
     "execution_count": 37,
     "metadata": {},
     "output_type": "execute_result"
    }
   ],
   "source": [
    "# Perc_sequences is a floating point number in the range 0 <= x <= 100.\n",
    "is_perc_sequences_valid = ~evolution_df['perc_sequences'].isna() & \\\n",
    "    (evolution_df['perc_sequences'] >= 0) & \\\n",
    "    (evolution_df['perc_sequences'] <= 100)\n",
    "all(is_perc_sequences_valid)"
   ]
  },
  {
   "cell_type": "code",
   "execution_count": 38,
   "id": "3aed3b4e-b2bb-4775-8381-a70e24b852bc",
   "metadata": {
    "tags": []
   },
   "outputs": [
    {
     "data": {
      "text/plain": [
       "True"
      ]
     },
     "execution_count": 38,
     "metadata": {},
     "output_type": "execute_result"
    }
   ],
   "source": [
    "# Num_sequences_total is a number greater than or equal to zero and is not null\n",
    "is_num_sequences_total_valid = ~evolution_df['num_sequences_total'].isna() & (evolution_df['num_sequences_total'] >= 0)\n",
    "all(is_num_sequences_total_valid)"
   ]
  },
  {
   "cell_type": "code",
   "execution_count": 39,
   "id": "f2e9442f-42ff-4fe9-ab88-d0fc243b8d3c",
   "metadata": {
    "tags": []
   },
   "outputs": [
    {
     "data": {
      "text/plain": [
       "True"
      ]
     },
     "execution_count": 39,
     "metadata": {},
     "output_type": "execute_result"
    }
   ],
   "source": [
    "# Num_sequences should always be less than or equal to num_sequences_total\n",
    "is_part_of_the_whole = evolution_df['num_sequences'] <= evolution_df['num_sequences_total']\n",
    "all(is_part_of_the_whole)"
   ]
  },
  {
   "cell_type": "code",
   "execution_count": 40,
   "id": "80457abf-32f9-4969-86e4-ec2bd527abf9",
   "metadata": {
    "tags": []
   },
   "outputs": [
    {
     "data": {
      "text/plain": [
       "True"
      ]
     },
     "execution_count": 40,
     "metadata": {},
     "output_type": "execute_result"
    }
   ],
   "source": [
    "# If we exclude the non_who row, the sum of num_sequences for a given location/date pair will\n",
    "# add up to the num_sequences_total for that location/date pair\n",
    "sequence_sums = evolution_df.loc[\n",
    "    ~(evolution_df['variant'] == 'non_who'), \n",
    "    ['location', 'date', 'num_sequences']\n",
    "].groupby(['location', 'date']).sum()\n",
    "\n",
    "sequence_totals = evolution_df[['location', 'date', 'num_sequences_total']].groupby(['location', 'date']).first()\n",
    "\n",
    "combined_totals = pd.concat([sequence_sums, sequence_totals], axis=1)\n",
    "does_it_add_up = combined_totals['num_sequences'] == combined_totals['num_sequences_total']\n",
    "all(does_it_add_up)"
   ]
  },
  {
   "cell_type": "markdown",
   "id": "bcf5b199-0f5f-4641-bc66-cfd11203f9fa",
   "metadata": {},
   "source": [
    "### Create a parquet file for the results"
   ]
  },
  {
   "cell_type": "code",
   "execution_count": 43,
   "id": "27bef5d3-8641-47ca-87e5-334bfd682ae2",
   "metadata": {
    "tags": []
   },
   "outputs": [],
   "source": [
    "# If the output path does not yet exist, create it\n",
    "if not os.path.exists(os.path.dirname(cleaned_evolution_filename)):\n",
    "    os.makedirs(os.path.dirname(cleaned_evolution_filename))\n",
    "    \n",
    "evolution_df.to_parquet(cleaned_evolution_filename)"
   ]
  }
 ],
 "metadata": {
  "kernelspec": {
   "display_name": "Python 3 (ipykernel)",
   "language": "python",
   "name": "python3"
  },
  "language_info": {
   "codemirror_mode": {
    "name": "ipython",
    "version": 3
   },
   "file_extension": ".py",
   "mimetype": "text/x-python",
   "name": "python",
   "nbconvert_exporter": "python",
   "pygments_lexer": "ipython3",
   "version": "3.10.9"
  }
 },
 "nbformat": 4,
 "nbformat_minor": 5
}
